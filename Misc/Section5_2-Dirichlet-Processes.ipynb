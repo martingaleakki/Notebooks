

<!DOCTYPE html>
<html lang="en">
  <head>
    <meta charset="utf-8">
    <title></title>

    <meta name="viewport" content="width=device-width, initial-scale=1.0">

    
    <meta name="description" content="">
    

    
    <meta name="author" content="">
    

    <!--NEW RELIC Start Perf Measurement-->
    
    <!--NREND-->

    <!-- Le styles -->
    <!--<link href="/static/css/bootstrap.css" rel="stylesheet">-->
    <link href="/static/css/docs.css" rel="stylesheet">
    <link href="/static/css/bootstrap.min.css" rel="stylesheet">
    <link href="/static/css/bootstrap-responsive.css" rel="stylesheet">
    <link href="/static/components/animate.css/animate.css" rel="stylesheet">
    <link href="/static/components/Font-Awesome/css/font-awesome.min.css" rel="stylesheet">
    <style>
        // get fixed navbar on mobiles
        @media (max-width: 767px) /* @grid-float-breakpoint -1 */
        {
            .navbar-fixed-top
            {
            position: fixed;
            top: 0;
            margin-left:0;
            margin-right:0;
            }
        }

        .menu-icon{
            line-height: 8px;
            margin-right: 5px;
            position:relative;
            top:5px;
        }
        
        @media (min-width: 980px){
            .menu-text{
                display:none
            }
        }

    </style>


    <!-- Le HTML5 shim, for IE6-8 support of HTML5 elements -->
    <!--[if lt IE 9]>
      <script src="http://html5shim.googlecode.com/svn/trunk/html5.js"></script>
    <![endif]-->

    <!-- Le fav and touch icons -->
    <link rel="shortcut icon" href="/static/ico/ipynb_icon_16x16.png">
    <link rel="apple-touch-icon-precomposed" sizes="144x144" href="/static/ico/apple-touch-icon-144-precomposed.png">
    <link rel="apple-touch-icon-precomposed" sizes="114x114" href="/static/ico/apple-touch-icon-114-precomposed.png">
    <link rel="apple-touch-icon-precomposed" sizes="72x72" href="/static/ico/apple-touch-icon-72-precomposed.png">
    <link rel="apple-touch-icon-precomposed" href="/static/ico/apple-touch-icon-57-precomposed.png">
    
    
    

    

    
    <meta name="twitter:card" content="summary">

    
    <meta name="twitter:title" content="Notebook on nbviewer">
    

    
    <meta name="twitter:description" content="Check out this IPython notebook!">
    

    
    <meta name="twitter:domain" content="nbviewer.ipython.org">
    

    <meta name="twitter:image:src" content="http://ipython.org/ipython-doc/dev/_images/ipynb_icon_128x128.png">
    
    
    

    <link href="/static/ipython.min.css" rel="stylesheet">
    <link href="/static/css/pygments.css" rel="stylesheet">
    <style type="text/css" media='screen and (min-width:980px)'>
   
    body{
        padding-top:50px;
    }

    </style>
    <style type="text/css" >
    .imgwrap {
        text-align: center;
    }
    .input_area{
        padding: 0.4em;
    }
    div.input_area > div.highlight > pre {
        margin: 0px;
        padding: 0px;
        border: none;
    }

    .highlight pre {
        background-color: transparent;
    }

    @media (max-width: 767px){

        div.input, div.output_area {
            -webkit-box-orient: vertical;
            -moz-box-orient: vertical;
            box-orient: vertical;
        }

        div.prompt {
            text-align:left;
        }

    }

    
    </style>
    
    <script src="https://c328740.ssl.cf1.rackcdn.com/mathjax/latest/MathJax.js?config=TeX-AMS_HTML"type="text/javascript">
    </script>
    <script type="text/javascript">
    init_mathjax = function() {
        if (window.MathJax) {
            // MathJax loaded
            MathJax.Hub.Config({
                tex2jax: {
                    inlineMath: [ ['$','$'], ["\\(","\\)"] ],
                    displayMath: [ ['$$','$$'], ["\\[","\\]"] ]
                },
                displayAlign: 'left', // Change this to 'center' to center equations.
                "HTML-CSS": {
                    styles: {'.MathJax_Display': {"margin": 0}}
                }
            });
            MathJax.Hub.Queue(["Typeset",MathJax.Hub]);
        }
    }
    init_mathjax();
    </script>
    
  </head>

  <body data-spy="scroll" data-target=".subnav" data-offset="50">


  <!-- Navbar
  ================================================== -->
    <div id='menubar' class="navbar navbar-fixed-top">
      <div class="navbar-inner">
        <div class="container">
          <button type="button" class="btn btn-navbar" data-toggle="collapse" data-target=".nav-collapse">
            <span class="icon-bar"></span>
            <span class="icon-bar"></span>
            <span class="icon-bar"></span>
          </button>
          <div class="nav-collapse collapse">
            <ul class="nav">

                <li>
        <a href="/" title="Home">
           
               <span class='fa fa-home fa-2x menu-icon'></span>
               <span class='menu-text'>Home</span>
           
       </a>
   </li>
                <li>
        <a href="/faq" title="FAQ">
           
               <span>FAQ</span>
           
       </a>
   </li>

              <li class="">
                <a href="http://www.ipython.org">IPython</a>
              </li>
              <li>
              <a href="http://jiffyclub.github.io/open-in-nbviewer/">Open-in-nbviewer</a>
              </li>
            </ul>
            <ul class="nav pull-right"> 
              
              
      
        <li>
        <a href="https://github.com/fonnesbeck/Bios366/blob/master/notebooks/Section5_2-Dirichlet-Processes.ipynb" title="Notebook Home">
           
               <span class='fa fa-github fa-2x menu-icon'></span>
               <span class='menu-text'>Notebook Home</span>
           
       </a>
   </li>
      
        <li>
        <a href="https://raw.github.com/fonnesbeck/Bios366/master/notebooks/Section5_2-Dirichlet-Processes.ipynb" title="Download Notebook">
           
               <span class='fa fa-download fa-2x menu-icon'></span>
               <span class='menu-text'>Download Notebook</span>
           
       </a>
   </li>
    
            </ul>
          </div>
        </div>
      </div>
    </div>
    <div class="container">


    
<div class="text_cell_render border-box-sizing rendered_html">
<h1 id="dirichlet-processes">Dirichlet Processes</h1>
<p>We have seen with parametric mixture models that we can assign group labels to observations using a model, but so far we have assumed that we know how many groups there are <em>a priori</em>. What if we don't know how many groups produced the data? We often want the choice of <span class="math">\(K\)</span> to be <strong>data-driven</strong>.</p>
<p>There are a number of approaches for allocating samples to groups where the number of groups is not pre-determined. We will look at two generative methods here.</p>
<h2 id="the-bayesian-histogram">The Bayesian Histogram</h2>
<p>One way to approximate an unknown density using sample observations is using a <em>histogram</em>. One way to parametrically describe a histogram is by specifying a series of knots that define the bins of a histogram:</p>
<p><span class="math">\[\zeta = \{\zeta_i: \zeta_1 \lt \zeta_2 \lt \ldots \lt \zeta_k \}_{h=1}^k\]</span></p>
<p>We can specify an associated probability model as:</p>
<p><span class="math">\[f(x) = \sum_{h=i}^k I(\zeta_{h-1} \lt x \le \zeta_h) \frac{\pi_h}{\zeta_h - \zeta_{h-1}}\]</span></p>
<p>where <span class="math">\(I\)</span> is the indicator function and <span class="math">\(\pi = \pi_1, \ldots, \pi_k\)</span> a probability simplex.</p>
<p>We require a prior for the unknown probabilities, for which a natural choice is the <em>Dirichlet</em> distribution:</p>
<p><span class="math">\[f(\mathbf{\pi}) = \frac{\prod \Gamma(\alpha_h)}{\Gamma(\sum_{h=1}^k \alpha_h)}\prod_{h=1}^{k} \pi_h^{\alpha_h - 1}\]</span></p>
<p><span class="math">\[\text{where } \, E(\pi|\alpha) = \pi_0 = \frac{\alpha_1}{\sum_h \alpha_h}, \ldots , \frac{\alpha_k}{\sum_h \alpha_h}\]</span></p>
<p>Notice that the Dirichlet is just a generalization of the beta distribution to <span class="math">\(k \gt 2\)</span> classes.</p>
<p>It is easy to show that the resulting posterior distribution for <span class="math">\(\pi\)</span> is another Dirichlet:</p>
<p><span class="math">\[\pi|x \sim \text{Dirichlet}(\alpha_1 + n_i, \ldots, \alpha_k + n_k)\]</span></p>
<p>where <span class="math">\(n_h\)</span> is the number of observations contained by the <span class="math">\(h^{th}\)</span> histogram bin.</p>
</div>
<div class="cell border-box-sizing code_cell vbox">
<div class="input hbox">
<div class="prompt input_prompt">
In&nbsp;[1]:
</div>
<div class="input_area box-flex1">
<div class="highlight"><pre><span class="kn">from</span> <span class="nn">pymc</span> <span class="kn">import</span> <span class="n">rbeta</span>

<span class="n">n</span> <span class="o">=</span> <span class="mi">100</span>
<span class="n">y</span> <span class="o">=</span> <span class="mf">0.75</span> <span class="o">*</span> <span class="n">rbeta</span><span class="p">(</span><span class="mi">1</span><span class="p">,</span> <span class="mi">5</span><span class="p">,</span> <span class="n">n</span><span class="p">)</span> <span class="o">+</span> <span class="mf">0.25</span> <span class="o">*</span> <span class="n">rbeta</span><span class="p">(</span><span class="mi">20</span><span class="p">,</span> <span class="mi">2</span><span class="p">,</span> <span class="n">n</span><span class="p">)</span>

<span class="n">counts</span><span class="p">,</span> <span class="n">bins</span><span class="p">,</span> <span class="n">patches</span> <span class="o">=</span> <span class="n">plt</span><span class="o">.</span><span class="n">hist</span><span class="p">(</span><span class="n">y</span><span class="p">,</span> <span class="n">bins</span><span class="o">=</span><span class="mi">10</span><span class="p">)</span>
</pre></div>

</div>
</div>

<div class="vbox output_wrapper">
<div class="output vbox">


<div class="hbox output_area"><div class="prompt"></div>
<div class="box-flex1 output_subarea output_display_data">


<img src="data:image/png;base64,iVBORw0KGgoAAAANSUhEUgAAAXUAAAECCAYAAAAB2kexAAAABHNCSVQICAgIfAhkiAAAAAlwSFlz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">

</div>
</div>

</div>
</div>

</div>
<div class="cell border-box-sizing code_cell vbox">
<div class="input hbox">
<div class="prompt input_prompt">
In&nbsp;[2]:
</div>
<div class="input_area box-flex1">
<div class="highlight"><pre><span class="n">counts</span>
</pre></div>

</div>
</div>

<div class="vbox output_wrapper">
<div class="output vbox">


<div class="hbox output_area"><div class="prompt output_prompt">
    Out[2]:</div>
<div class="box-flex1 output_subarea output_pyout">


<pre>
array([ 30.,  30.,  18.,   7.,   8.,   3.,   3.,   0.,   0.,   1.])
</pre>

</div>
</div>

</div>
</div>

</div>
<div class="text_cell_render border-box-sizing rendered_html">
<p>We can use these bin counts to cacluate the expected value of the Dirichlet posterior:</p>
</div>
<div class="cell border-box-sizing code_cell vbox">
<div class="input hbox">
<div class="prompt input_prompt">
In&nbsp;[3]:
</div>
<div class="input_area box-flex1">
<div class="highlight"><pre><span class="kn">from</span> <span class="nn">pymc</span> <span class="kn">import</span> <span class="n">dirichlet_expval</span>
<span class="kn">import</span> <span class="nn">numpy</span> <span class="kn">as</span> <span class="nn">np</span>

<span class="n">p</span> <span class="o">=</span> <span class="n">dirichlet_expval</span><span class="p">(</span><span class="mi">1</span><span class="o">+</span><span class="n">counts</span><span class="p">)</span>
<span class="n">p</span> <span class="o">=</span> <span class="n">np</span><span class="o">.</span><span class="n">append</span><span class="p">(</span><span class="n">p</span><span class="p">,</span> <span class="mf">1.</span><span class="o">-</span><span class="n">p</span><span class="o">.</span><span class="n">sum</span><span class="p">())</span>
<span class="n">y_exp</span> <span class="o">=</span> <span class="n">n</span><span class="o">*</span><span class="n">p</span>
</pre></div>

</div>
</div>

</div>
<div class="cell border-box-sizing code_cell vbox">
<div class="input hbox">
<div class="prompt input_prompt">
In&nbsp;[4]:
</div>
<div class="input_area box-flex1">
<div class="highlight"><pre><span class="n">plt</span><span class="o">.</span><span class="n">hist</span><span class="p">(</span><span class="n">y</span><span class="p">,</span> <span class="n">bins</span><span class="o">=</span><span class="mi">10</span><span class="p">)</span>
<span class="n">plt</span><span class="o">.</span><span class="n">step</span><span class="p">(</span><span class="n">bins</span><span class="p">,</span> <span class="n">y_exp</span><span class="p">,</span> <span class="n">color</span><span class="o">=</span><span class="s">&#39;red&#39;</span><span class="p">,</span> <span class="n">where</span><span class="o">=</span><span class="s">&#39;post&#39;</span><span class="p">,</span> <span class="n">linewidth</span><span class="o">=</span><span class="mi">4</span><span class="p">)</span>
</pre></div>

</div>
</div>

<div class="vbox output_wrapper">
<div class="output vbox">


<div class="hbox output_area"><div class="prompt output_prompt">
    Out[4]:</div>
<div class="box-flex1 output_subarea output_pyout">


<pre>
[&lt;matplotlib.lines.Line2D at 0x10a309a50&gt;]
</pre>

</div>
</div>

<div class="hbox output_area"><div class="prompt"></div>
<div class="box-flex1 output_subarea output_display_data">


<img src="data:image/png;base64,iVBORw0KGgoAAAANSUhEUgAAAXUAAAECCAYAAAAB2kexAAAABHNCSVQICAgIfAhkiAAAAAlwSFlz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">

</div>
</div>

</div>
</div>

</div>
<div class="text_cell_render border-box-sizing rendered_html">
<p>While this does a good job of density approximation, the estimates are clearly sensitive to the choice of bins (both number and location):</p>
</div>
<div class="cell border-box-sizing code_cell vbox">
<div class="input hbox">
<div class="prompt input_prompt">
In&nbsp;[5]:
</div>
<div class="input_area box-flex1">
<div class="highlight"><pre><span class="n">counts</span><span class="p">,</span> <span class="n">bins</span><span class="p">,</span> <span class="n">patches</span> <span class="o">=</span> <span class="n">plt</span><span class="o">.</span><span class="n">hist</span><span class="p">(</span><span class="n">y</span><span class="p">,</span> <span class="n">bins</span><span class="o">=</span><span class="mi">20</span><span class="p">)</span>

<span class="n">p</span> <span class="o">=</span> <span class="n">dirichlet_expval</span><span class="p">(</span><span class="mi">1</span><span class="o">+</span><span class="n">counts</span><span class="p">)</span> 
<span class="n">y_exp</span> <span class="o">=</span> <span class="n">n</span><span class="o">*</span><span class="n">np</span><span class="o">.</span><span class="n">append</span><span class="p">(</span><span class="n">p</span><span class="p">,</span> <span class="mf">1.</span><span class="o">-</span><span class="n">p</span><span class="o">.</span><span class="n">sum</span><span class="p">())</span>

<span class="n">plt</span><span class="o">.</span><span class="n">hist</span><span class="p">(</span><span class="n">y</span><span class="p">,</span> <span class="n">bins</span><span class="o">=</span><span class="mi">20</span><span class="p">)</span>
<span class="n">plt</span><span class="o">.</span><span class="n">step</span><span class="p">(</span><span class="n">bins</span><span class="p">,</span> <span class="n">y_exp</span><span class="p">,</span> <span class="n">color</span><span class="o">=</span><span class="s">&#39;red&#39;</span><span class="p">,</span> <span class="n">where</span><span class="o">=</span><span class="s">&#39;post&#39;</span><span class="p">,</span> <span class="n">linewidth</span><span class="o">=</span><span class="mi">4</span><span class="p">)</span>
</pre></div>

</div>
</div>

<div class="vbox output_wrapper">
<div class="output vbox">


<div class="hbox output_area"><div class="prompt output_prompt">
    Out[5]:</div>
<div class="box-flex1 output_subarea output_pyout">


<pre>
[&lt;matplotlib.lines.Line2D at 0x10cfd4550&gt;]
</pre>

</div>
</div>

<div class="hbox output_area"><div class="prompt"></div>
<div class="box-flex1 output_subarea output_display_data">


<img src="data:image/png;base64,iVBORw0KGgoAAAANSUhEUgAAAXUAAAECCAYAAAAB2kexAAAABHNCSVQICAgIfAhkiAAAAAlwSFlz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">

</div>
</div>

</div>
</div>

</div>
<div class="text_cell_render border-box-sizing rendered_html">
<p>So, while this is a simple, straightforward approach to flexible density estimation, we would prefer not to have to specify bins <em>a priori</em>. Happily, with a little work, we can generalize the Dirichlet to make it more flexible</p>
<h2 id="dirichlet-process-prior">Dirichlet Process Prior</h2>
<p>Consider a samples space <span class="math">\(\Omega\)</span> that we may partition into <span class="math">\(k\)</span> non-overlapping subsets <span class="math">\(\{B_1,\ldots,B_k\} \in \mathcal{B}\)</span>. We can assign a probability measure <span class="math">\(P\)</span> to this partition:</p>
<p><span class="math">\[P(B_1),\ldots,P(B_k) = \int_{B_1} f(x) dx, \ldots, \int_{B_k} f(x) dx\]</span></p>
<p>A Dirichlet distribition would be a natural conjugate prior on these partition (bin) probabilities:</p>
<p><span class="math">\[P(B_1),\ldots,P(B_k) \sim \text{Dirichlet}(a P_0(B_1), \ldots, a P_0(B_k))\]</span></p>
<p>where <span class="math">\(P_0\)</span> is a base probability measure and <span class="math">\(a &gt; 0\)</span> can be interpreted as prior sample size, which essentially controls the amount of prior shrinkage.</p>
<p>However, we want our model to be insensitive to the choice of partition and to the number of bins. The important implication of specifying this prior is that although probabilities are assigned to each bin, it does not prescribe how that probability mass is distributed across any particular bin.</p>
<p>It is easy to show that combining (or splitting) the elements of a Dirichlet distribution results in another Dirichlet:</p>
<p><span class="math">\[\begin{aligned}
\pi_1, \ldots, \pi_k &amp;\sim \text{Dirichlet}(\alpha_1, \ldots, \alpha_k) \\
\Rightarrow \pi_1 + \pi_2, \pi_3, \ldots, \pi_k &amp;\sim \text{Dirichlet}(\alpha_1 + \alpha_2, \alpha_3, \ldots, \alpha_k)
\end{aligned}\]</span></p>
<p>or generally, for partition <span class="math">\(\{B_1,\ldots,B_k\} \in \mathcal{B}\)</span>:</p>
<p><span class="math">\[\sum_{h \in B_1} \pi_h, \ldots, \sum_{h \in B_k} \pi_h \sim \text{Dirichlet}(\sum_{h \in B_1} \alpha_h, \ldots, \sum_{h \in B_k} \alpha_h)\]</span></p>
<p>Similarly, for <span class="math">\(\beta_1 + \beta_2 = 1\)</span>,</p>
<p><span class="math">\[\begin{aligned}
\pi_1, \ldots, \pi_k &amp;\sim \text{Dirichlet}(\alpha_1, \ldots, \alpha_k) \\
\tau_1, \tau_2 &amp;\sim \text{Dirichlet}(\alpha_1 \beta_1, \alpha_1 \beta_2) \\
\Rightarrow \pi_1\tau_1 + \pi_1\tau_2, \pi_2, \ldots, \pi_k &amp;\sim \text{Dirichlet}(\alpha_1\beta_1, \alpha_1\beta_2, \alpha_2, \alpha_3, \ldots, \alpha_k)
\end{aligned}\]</span></p>
</div>
<div class="text_cell_render border-box-sizing rendered_html">
<p>Just as the Gaussian process is a distribution over functions, a <strong>Dirichlet process</strong> is a distribution over distributions (or, measure over measures).</p>
<p><span class="math">\[P \sim DP(\alpha P_0)\]</span></p>
<p>It is centered upon the baseline probability measure <span class="math">\(P_0\)</span>, with <span class="math">\(\alpha\)</span> specifying the certainty in this baseline (<em>i.e.</em> inverse variance).</p>
<p>The expectation of a DPP is:</p>
<p><span class="math">\[E[P(B)] = P_0(B)\]</span></p>
<p>in other words, centered on the baseline measure, and the variance is:</p>
<p><span class="math">\[\text{Var}(P(B)) = \frac{P_0(B)(1-P_0(B))}{1 + \alpha}\]</span></p>
<p>It is essentially an <em>infinitely decimated</em> Dirichlet distribution. The marginal probability assigned to any subset <span class="math">\(B\)</span> is beta distributed:</p>
<p><span class="math">\[P(B) \sim \text{Beta}(\alpha P_0(B), \alpha (1-P_0(B)))\]</span></p>
</div>
<div class="text_cell_render border-box-sizing rendered_html">
<h2 id="stick-breaking-process">Stick-breaking Process</h2>
<p>The specification of the DP above is not necessarily intuitive in terms of what a DP realization looks like. A generative approach for allocating observations to groups is the stick-breaking process, which involves breaking the support of a particular variable into <span class="math">\(k\)</span> disjoint segments. Here, we start with a &quot;stick&quot; of unit length. To &quot;break&quot; the stick, we generate random points along the stick via the following algorithm:</p>
<ol style="list-style-type: decimal">
<li>generate a random variable <span class="math">\(\beta_1 \sim Beta(1, \alpha_0)\)</span></li>
<li>use this random variable (which is on the unit interval) to define a break point on the stick</li>
<li>iterate <span class="math">\(k-1\)</span> times:
<ul>
<li>generate <span class="math">\(\beta_i \sim Beta(1, \alpha_0)\)</span></li>
<li>identify next break point at <span class="math">\(\pi_i = \beta_i \prod_{j=1}^{i-1} (1-\beta_j)\)</span> (which is on the part of the stick that remains after the previous break)</li>
</ul></li>
</ol>
</div>
<div class="text_cell_render border-box-sizing rendered_html">
<p>This results in <span class="math">\(k\)</span> &quot;pieces&quot; being created. Associated with each piece is a probability that is proportional to its length; these <span class="math">\(k\)</span> probabilities will have a Dirichlet distribution -- thus, the DP is a distribution over distributions.</p>
<p>Notice that <span class="math">\(k\)</span> can be infinite, making <span class="math">\(G\)</span> an infinite mixture.</p>
<p>Implementing a stick-breaking constructive process in Python is straightforward:</p>
</div>
<div class="cell border-box-sizing code_cell vbox">
<div class="input hbox">
<div class="prompt input_prompt">
In&nbsp;[6]:
</div>
<div class="input_area box-flex1">
<div class="highlight"><pre><span class="kn">from</span> <span class="nn">numpy.random</span> <span class="kn">import</span> <span class="n">beta</span>

<span class="k">def</span> <span class="nf">stick_breaking</span><span class="p">(</span><span class="n">alpha</span><span class="p">,</span> <span class="n">k</span><span class="p">):</span>
    <span class="n">betas</span> <span class="o">=</span> <span class="n">beta</span><span class="p">(</span><span class="mi">1</span><span class="p">,</span> <span class="n">alpha</span><span class="p">,</span> <span class="n">k</span><span class="p">)</span>
    <span class="n">remaining_pieces</span> <span class="o">=</span> <span class="n">np</span><span class="o">.</span><span class="n">append</span><span class="p">(</span><span class="mi">1</span><span class="p">,</span> <span class="n">np</span><span class="o">.</span><span class="n">cumprod</span><span class="p">(</span><span class="mi">1</span> <span class="o">-</span> <span class="n">betas</span><span class="p">[:</span><span class="o">-</span><span class="mi">1</span><span class="p">]))</span>
    <span class="n">p</span> <span class="o">=</span> <span class="n">betas</span> <span class="o">*</span> <span class="n">remaining_pieces</span>
    <span class="k">return</span> <span class="n">p</span><span class="o">/</span><span class="n">p</span><span class="o">.</span><span class="n">sum</span><span class="p">()</span>
</pre></div>

</div>
</div>

</div>
<div class="text_cell_render border-box-sizing rendered_html">
<p>For example, let's construct a DP with a baseline distribution that is standard normal:</p>
<p><span class="math">\[P_0 = N(0,1)\]</span></p>
<p>We take a draw of <span class="math">\(k\)</span> values from the baseline distribution:</p>
<p><span class="math">\[ \theta_1, \theta_2, \ldots \theta_k \sim P_0 \]</span></p>
</div>
<div class="cell border-box-sizing code_cell vbox">
<div class="input hbox">
<div class="prompt input_prompt">
In&nbsp;[7]:
</div>
<div class="input_area box-flex1">
<div class="highlight"><pre><span class="n">k</span> <span class="o">=</span> <span class="mi">25</span>
<span class="n">alpha</span> <span class="o">=</span> <span class="mi">7</span>
<span class="n">theta</span> <span class="o">=</span> <span class="n">np</span><span class="o">.</span><span class="n">random</span><span class="o">.</span><span class="n">normal</span><span class="p">(</span><span class="mi">0</span><span class="p">,</span> <span class="mi">1</span><span class="p">,</span> <span class="n">k</span><span class="p">)</span>
</pre></div>

</div>
</div>

</div>
<div class="text_cell_render border-box-sizing rendered_html">
<p>then, using a stick breaking process, we can obtain a set of draws <span class="math">\(\beta_1, \beta_2, \ldots\)</span> from a <span class="math">\(\text{Beta}(1,\alpha)\)</span>. These are used to assign probabilities to the <span class="math">\(\theta_i\)</span> values. As we established above, the probability of each <span class="math">\(\theta_i\)</span> is calculated via:</p>
<p><span class="math">\[ \pi_i = \beta_i \prod_{j=1}^{i-1} (1 - \beta_j) \]</span></p>
</div>
<div class="cell border-box-sizing code_cell vbox">
<div class="input hbox">
<div class="prompt input_prompt">
In&nbsp;[8]:
</div>
<div class="input_area box-flex1">
<div class="highlight"><pre><span class="n">p</span> <span class="o">=</span> <span class="n">stick_breaking</span><span class="p">(</span><span class="n">alpha</span><span class="p">,</span> <span class="n">k</span><span class="p">)</span>
</pre></div>

</div>
</div>

</div>
<div class="text_cell_render border-box-sizing rendered_html">
<p>These probabilities correspond to the set of draws from the baseline distribution, where each of the latter are point masses of probability. So, the DP density function is:</p>
<p><span class="math">\[ P(x) = \sum_{i=1}^{n} \pi_i I(x=\beta_i) \]</span></p>
<p>where <span class="math">\(I\)</span> is the indicator function.</p>
</div>
<div class="cell border-box-sizing code_cell vbox">
<div class="input hbox">
<div class="prompt input_prompt">
In&nbsp;[9]:
</div>
<div class="input_area box-flex1">
<div class="highlight"><pre><span class="n">x</span> <span class="o">=</span> <span class="n">np</span><span class="o">.</span><span class="n">random</span><span class="o">.</span><span class="n">multinomial</span><span class="p">(</span><span class="n">k</span><span class="p">,</span> <span class="n">p</span><span class="p">)</span>
<span class="n">dp</span> <span class="o">=</span> <span class="n">theta</span><span class="p">[</span><span class="n">x</span><span class="p">]</span>
<span class="n">dp</span>
</pre></div>

</div>
</div>

<div class="vbox output_wrapper">
<div class="output vbox">


<div class="hbox output_area"><div class="prompt output_prompt">
    Out[9]:</div>
<div class="box-flex1 output_subarea output_pyout">


<pre>
array([-1.06410135,  1.04413793, -0.70356844, -0.70356844, -0.70356844,
       -0.70356844, -0.70356844, -1.82200769,  1.99310041,  1.99310041,
       -0.70356844, -0.70356844,  1.99310041, -0.70356844,  1.99310041,
       -0.70356844, -0.70356844, -0.70356844, -0.70356844, -0.70356844,
       -0.70356844, -0.70356844, -0.70356844, -0.70356844, -0.70356844])
</pre>

</div>
</div>

</div>
</div>

</div>
<div class="cell border-box-sizing code_cell vbox">
<div class="input hbox">
<div class="prompt input_prompt">
In&nbsp;[10]:
</div>
<div class="input_area box-flex1">
<div class="highlight"><pre><span class="n">x</span> <span class="o">=</span> <span class="nb">set</span><span class="p">(</span><span class="n">dp</span><span class="p">)</span>
<span class="n">f</span> <span class="o">=</span> <span class="p">[(</span><span class="n">dp</span><span class="o">==</span><span class="n">i</span><span class="p">)</span><span class="o">.</span><span class="n">sum</span><span class="p">()</span> <span class="k">for</span> <span class="n">i</span> <span class="ow">in</span> <span class="n">x</span><span class="p">]</span>
<span class="n">plt</span><span class="o">.</span><span class="n">bar</span><span class="p">(</span><span class="n">x</span><span class="p">,</span> <span class="n">f</span><span class="p">,</span> <span class="n">width</span><span class="o">=</span><span class="mf">0.01</span><span class="p">)</span>
</pre></div>

</div>
</div>

<div class="vbox output_wrapper">
<div class="output vbox">


<div class="hbox output_area"><div class="prompt output_prompt">
    Out[10]:</div>
<div class="box-flex1 output_subarea output_pyout">


<pre>
&lt;Container object of 5 artists&gt;
</pre>

</div>
</div>

<div class="hbox output_area"><div class="prompt"></div>
<div class="box-flex1 output_subarea output_display_data">


<img src="data:image/png;base64,iVBORw0KGgoAAAANSUhEUgAAAXUAAAECCAYAAAAB2kexAAAABHNCSVQICAgIfAhkiAAAAAlwSFlz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">

</div>
</div>

</div>
</div>

</div>
<div class="text_cell_render border-box-sizing rendered_html">
<p>So, you can see that the Dirichlet process is discrete, despite the fact that its values may be non-integer. This can be generalized to a mixture of continuous distributions, which is called a DP mixture.</p>
</div>
<div class="text_cell_render border-box-sizing rendered_html">
<p>Here are several realizations with <span class="math">\(k=20\)</span> and <span class="math">\(\alpha=0.5\)</span>. So, there are 20 bars (sorted), and the height of the bar represents that group's probability.</p>
</div>
<div class="cell border-box-sizing code_cell vbox">
<div class="input hbox">
<div class="prompt input_prompt">
In&nbsp;[11]:
</div>
<div class="input_area box-flex1">
<div class="highlight"><pre><span class="n">k</span> <span class="o">=</span> <span class="mi">20</span>
<span class="n">fig</span><span class="p">,</span> <span class="n">axes</span> <span class="o">=</span> <span class="n">plt</span><span class="o">.</span><span class="n">subplots</span><span class="p">(</span><span class="mi">2</span><span class="p">,</span> <span class="mi">5</span><span class="p">,</span> <span class="n">sharex</span><span class="o">=</span><span class="bp">True</span><span class="p">,</span> <span class="n">sharey</span><span class="o">=</span><span class="bp">True</span><span class="p">,</span> <span class="n">figsize</span><span class="o">=</span><span class="p">(</span><span class="mi">10</span><span class="p">,</span><span class="mi">6</span><span class="p">))</span>
<span class="k">for</span> <span class="n">ax</span> <span class="ow">in</span> <span class="n">np</span><span class="o">.</span><span class="n">ravel</span><span class="p">(</span><span class="n">axes</span><span class="p">):</span>
    <span class="n">ax</span><span class="o">.</span><span class="n">bar</span><span class="p">(</span><span class="n">arange</span><span class="p">(</span><span class="n">k</span><span class="p">),</span> <span class="n">np</span><span class="o">.</span><span class="n">sort</span><span class="p">(</span><span class="n">stick_breaking</span><span class="p">(</span><span class="n">alpha</span><span class="o">=</span><span class="mf">0.5</span><span class="p">,</span> <span class="n">k</span><span class="o">=</span><span class="n">k</span><span class="p">))[::</span><span class="o">-</span><span class="mi">1</span><span class="p">])</span>
</pre></div>

</div>
</div>

<div class="vbox output_wrapper">
<div class="output vbox">


<div class="hbox output_area"><div class="prompt"></div>
<div class="box-flex1 output_subarea output_display_data">


<img src="data:image/png;base64,iVBORw0KGgoAAAANSUhEUgAAAlYAAAFyCAYAAAA3cJSiAAAABHNCSVQICAgIfAhkiAAAAAlwSFlz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">

</div>
</div>

</div>
</div>

</div>
<div class="text_cell_render border-box-sizing rendered_html">
<p>For <span class="math">\(\alpha=5\)</span>:</p>
</div>
<div class="cell border-box-sizing code_cell vbox">
<div class="input hbox">
<div class="prompt input_prompt">
In&nbsp;[12]:
</div>
<div class="input_area box-flex1">
<div class="highlight"><pre><span class="n">fig</span><span class="p">,</span> <span class="n">axes</span> <span class="o">=</span> <span class="n">plt</span><span class="o">.</span><span class="n">subplots</span><span class="p">(</span><span class="mi">2</span><span class="p">,</span> <span class="mi">5</span><span class="p">,</span> <span class="n">sharex</span><span class="o">=</span><span class="bp">True</span><span class="p">,</span> <span class="n">sharey</span><span class="o">=</span><span class="bp">True</span><span class="p">,</span> <span class="n">figsize</span><span class="o">=</span><span class="p">(</span><span class="mi">10</span><span class="p">,</span><span class="mi">6</span><span class="p">))</span>
<span class="k">for</span> <span class="n">ax</span> <span class="ow">in</span> <span class="n">np</span><span class="o">.</span><span class="n">ravel</span><span class="p">(</span><span class="n">axes</span><span class="p">):</span>
    <span class="n">ax</span><span class="o">.</span><span class="n">bar</span><span class="p">(</span><span class="n">arange</span><span class="p">(</span><span class="n">k</span><span class="p">),</span> <span class="n">np</span><span class="o">.</span><span class="n">sort</span><span class="p">(</span><span class="n">stick_breaking</span><span class="p">(</span><span class="n">alpha</span><span class="o">=</span><span class="mi">5</span><span class="p">,</span> <span class="n">k</span><span class="o">=</span><span class="n">k</span><span class="p">))[::</span><span class="o">-</span><span class="mi">1</span><span class="p">])</span>
    <span class="n">ax</span><span class="o">.</span><span class="n">set_ylim</span><span class="p">(</span><span class="mi">0</span><span class="p">,</span><span class="mi">1</span><span class="p">)</span>
</pre></div>

</div>
</div>

<div class="vbox output_wrapper">
<div class="output vbox">


<div class="hbox output_area"><div class="prompt"></div>
<div class="box-flex1 output_subarea output_display_data">


<img src="data:image/png;base64,iVBORw0KGgoAAAANSUhEUgAAAlYAAAFyCAYAAAA3cJSiAAAABHNCSVQICAgIfAhkiAAAAAlwSFlz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">

</div>
</div>

</div>
</div>

</div>
<div class="text_cell_render border-box-sizing rendered_html">
<p>For <span class="math">\(\alpha=25\)</span>:</p>
</div>
<div class="cell border-box-sizing code_cell vbox">
<div class="input hbox">
<div class="prompt input_prompt">
In&nbsp;[13]:
</div>
<div class="input_area box-flex1">
<div class="highlight"><pre><span class="n">fig</span><span class="p">,</span> <span class="n">axes</span> <span class="o">=</span> <span class="n">plt</span><span class="o">.</span><span class="n">subplots</span><span class="p">(</span><span class="mi">2</span><span class="p">,</span> <span class="mi">5</span><span class="p">,</span> <span class="n">sharex</span><span class="o">=</span><span class="bp">True</span><span class="p">,</span> <span class="n">sharey</span><span class="o">=</span><span class="bp">True</span><span class="p">,</span> <span class="n">figsize</span><span class="o">=</span><span class="p">(</span><span class="mi">10</span><span class="p">,</span><span class="mi">6</span><span class="p">))</span>
<span class="k">for</span> <span class="n">ax</span> <span class="ow">in</span> <span class="n">np</span><span class="o">.</span><span class="n">ravel</span><span class="p">(</span><span class="n">axes</span><span class="p">):</span>
    <span class="n">ax</span><span class="o">.</span><span class="n">bar</span><span class="p">(</span><span class="n">arange</span><span class="p">(</span><span class="n">k</span><span class="p">),</span> <span class="n">np</span><span class="o">.</span><span class="n">sort</span><span class="p">(</span><span class="n">stick_breaking</span><span class="p">(</span><span class="n">alpha</span><span class="o">=</span><span class="mi">25</span><span class="p">,</span> <span class="n">k</span><span class="o">=</span><span class="n">k</span><span class="p">))[::</span><span class="o">-</span><span class="mi">1</span><span class="p">])</span>
    <span class="n">ax</span><span class="o">.</span><span class="n">set_ylim</span><span class="p">(</span><span class="mi">0</span><span class="p">,</span><span class="mi">1</span><span class="p">)</span>
</pre></div>

</div>
</div>

<div class="vbox output_wrapper">
<div class="output vbox">


<div class="hbox output_area"><div class="prompt"></div>
<div class="box-flex1 output_subarea output_display_data">


<img src="data:image/png;base64,iVBORw0KGgoAAAANSUhEUgAAAlYAAAFyCAYAAAA3cJSiAAAABHNCSVQICAgIfAhkiAAAAAlwSFlz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">

</div>
</div>

</div>
</div>

</div>
<div class="text_cell_render border-box-sizing rendered_html">
<p>We can see that as <span class="math">\(\alpha_0\)</span> increases, the weights (stick sizes) are more even across the samples.</p>
<p>We can use the stick-breaking process to induce <span class="math">\(P \sim DP(\alpha P_0)\)</span> for some <span class="math">\(P_0\)</span>.</p>
<p><span class="math">\[P(\cdot) = \sum_{h=1}^k \pi_h \delta_{\theta_h}(\cdot)\]</span></p>
<p>Where the <span class="math">\(\pi_h\)</span> are geenrated by stick-breaking, <span class="math">\(\delta_{\theta}\)</span> is a degenerate distribution with the entire probability mass at <span class="math">\(\theta\)</span>, which in turn, are generated by <span class="math">\(P_0\)</span>; here, we will use a standard normal.</p>
</div>
<div class="cell border-box-sizing code_cell vbox">
<div class="input hbox">
<div class="prompt input_prompt">
In&nbsp;[14]:
</div>
<div class="input_area box-flex1">
<div class="highlight"><pre><span class="kn">from</span> <span class="nn">numpy.random</span> <span class="kn">import</span> <span class="n">choice</span>

<span class="k">def</span> <span class="nf">dirichlet_process</span><span class="p">(</span><span class="n">p</span><span class="p">,</span> <span class="n">n</span><span class="p">,</span> <span class="n">P0</span><span class="o">=</span><span class="n">np</span><span class="o">.</span><span class="n">random</span><span class="o">.</span><span class="n">randn</span><span class="p">):</span>
    <span class="n">theta</span> <span class="o">=</span> <span class="n">P0</span><span class="p">(</span><span class="nb">len</span><span class="p">(</span><span class="n">p</span><span class="p">))</span>
    <span class="k">return</span> <span class="n">np</span><span class="o">.</span><span class="n">random</span><span class="o">.</span><span class="n">choice</span><span class="p">(</span><span class="n">theta</span><span class="p">,</span> <span class="n">size</span><span class="o">=</span><span class="n">n</span><span class="p">,</span> <span class="n">p</span><span class="o">=</span><span class="n">p</span><span class="p">)</span>
</pre></div>

</div>
</div>

</div>
<div class="text_cell_render border-box-sizing rendered_html">
<p><span class="math">\(\alpha=1\)</span></p>
</div>
<div class="cell border-box-sizing code_cell vbox">
<div class="input hbox">
<div class="prompt input_prompt">
In&nbsp;[15]:
</div>
<div class="input_area box-flex1">
<div class="highlight"><pre><span class="n">p</span> <span class="o">=</span> <span class="n">stick_breaking</span><span class="p">(</span><span class="n">alpha</span><span class="o">=</span><span class="mf">0.5</span><span class="p">,</span> <span class="n">k</span><span class="o">=</span><span class="mi">1000</span><span class="p">)</span>
</pre></div>

</div>
</div>

</div>
<div class="cell border-box-sizing code_cell vbox">
<div class="input hbox">
<div class="prompt input_prompt">
In&nbsp;[16]:
</div>
<div class="input_area box-flex1">
<div class="highlight"><pre><span class="n">_</span> <span class="o">=</span> <span class="n">plt</span><span class="o">.</span><span class="n">hist</span><span class="p">(</span><span class="n">dirichlet_process</span><span class="p">(</span><span class="n">p</span><span class="p">,</span> <span class="mi">100</span><span class="p">))</span>
</pre></div>

</div>
</div>

<div class="vbox output_wrapper">
<div class="output vbox">


<div class="hbox output_area"><div class="prompt"></div>
<div class="box-flex1 output_subarea output_display_data">


<img src="data:image/png;base64,iVBORw0KGgoAAAANSUhEUgAAAXsAAAECCAYAAAAfE3cCAAAABHNCSVQICAgIfAhkiAAAAAlwSFlz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">

</div>
</div>

</div>
</div>

</div>
<div class="text_cell_render border-box-sizing rendered_html">
<p><span class="math">\(\alpha=5\)</span></p>
</div>
<div class="cell border-box-sizing code_cell vbox">
<div class="input hbox">
<div class="prompt input_prompt">
In&nbsp;[17]:
</div>
<div class="input_area box-flex1">
<div class="highlight"><pre><span class="n">p</span> <span class="o">=</span> <span class="n">stick_breaking</span><span class="p">(</span><span class="n">alpha</span><span class="o">=</span><span class="mi">5</span><span class="p">,</span> <span class="n">k</span><span class="o">=</span><span class="mi">1000</span><span class="p">)</span>
<span class="n">_</span> <span class="o">=</span> <span class="n">plt</span><span class="o">.</span><span class="n">hist</span><span class="p">(</span><span class="n">dirichlet_process</span><span class="p">(</span><span class="n">p</span><span class="p">,</span> <span class="mi">100</span><span class="p">))</span>
</pre></div>

</div>
</div>

<div class="vbox output_wrapper">
<div class="output vbox">


<div class="hbox output_area"><div class="prompt"></div>
<div class="box-flex1 output_subarea output_display_data">


<img src="data:image/png;base64,iVBORw0KGgoAAAANSUhEUgAAAXUAAAECCAYAAAAB2kexAAAABHNCSVQICAgIfAhkiAAAAAlwSFlz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=
">

</div>
</div>

</div>
</div>

</div>
<div class="text_cell_render border-box-sizing rendered_html">
<p><span class="math">\(\alpha=25\)</span></p>
</div>
<div class="cell border-box-sizing code_cell vbox">
<div class="input hbox">
<div class="prompt input_prompt">
In&nbsp;[18]:
</div>
<div class="input_area box-flex1">
<div class="highlight"><pre><span class="n">p</span> <span class="o">=</span> <span class="n">stick_breaking</span><span class="p">(</span><span class="n">alpha</span><span class="o">=</span><span class="mi">25</span><span class="p">,</span> <span class="n">k</span><span class="o">=</span><span class="mi">10000</span><span class="p">)</span>
<span class="n">_</span> <span class="o">=</span> <span class="n">plt</span><span class="o">.</span><span class="n">hist</span><span class="p">(</span><span class="n">dirichlet_process</span><span class="p">(</span><span class="n">p</span><span class="p">,</span> <span class="mi">1000</span><span class="p">))</span>
</pre></div>

</div>
</div>

<div class="vbox output_wrapper">
<div class="output vbox">


<div class="hbox output_area"><div class="prompt"></div>
<div class="box-flex1 output_subarea output_display_data">


<img src="data:image/png;base64,iVBORw0KGgoAAAANSUhEUgAAAXcAAAECCAYAAAAFL5eMAAAABHNCSVQICAgIfAhkiAAAAAlwSFlz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">

</div>
</div>

</div>
</div>

</div>
<div class="text_cell_render border-box-sizing rendered_html">
<p>Notice that, while the particular values of the DP realizations are continuous, the distribution is discrete. But, as <span class="math">\(\alpha \rightarrow \infty\)</span>, the likelihood of indexing the same <span class="math">\(\theta_h\)</span> more than once goes to zero, and one is essentially drawing from <span class="math">\(P_0\)</span>.</p>
</div>
<div class="cell border-box-sizing code_cell vbox">
<div class="input hbox">
<div class="prompt input_prompt">
In&nbsp;[19]:
</div>
<div class="input_area box-flex1">
<div class="highlight"><pre><span class="n">p</span> <span class="o">=</span> <span class="n">stick_breaking</span><span class="p">(</span><span class="n">alpha</span><span class="o">=</span><span class="mi">1000</span><span class="p">,</span> <span class="n">k</span><span class="o">=</span><span class="mi">10000</span><span class="p">)</span>
<span class="n">_</span> <span class="o">=</span> <span class="n">plt</span><span class="o">.</span><span class="n">hist</span><span class="p">(</span><span class="n">dirichlet_process</span><span class="p">(</span><span class="n">p</span><span class="p">,</span> <span class="mi">1000</span><span class="p">))</span>
</pre></div>

</div>
</div>

<div class="vbox output_wrapper">
<div class="output vbox">


<div class="hbox output_area"><div class="prompt"></div>
<div class="box-flex1 output_subarea output_display_data">


<img src="data:image/png;base64,iVBORw0KGgoAAAANSUhEUgAAAXcAAAECCAYAAAAFL5eMAAAABHNCSVQICAgIfAhkiAAAAAlwSFlz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">

</div>
</div>

</div>
</div>

</div>
<div class="text_cell_render border-box-sizing rendered_html">
<p>So, while the DP is of limited use as a direct prior of a data distribution, it is extremely useful as a prior for an unknown mixture.</p>
<p>If we generalize the above approach such that the DP is used as the mixture measure for some kernel <span class="math">\(\mathcal{K}(y|\theta)\)</span>, then we can define the mixture model:</p>
<p><span class="math">\[f(y) = \sum_{h=1}^{\infty} \pi_h \mathcal{K}(y|\theta_h)\]</span></p>
<p>This is no different than other mixture models we have seen, except that the number of components is infinite. In practice, almost all the components are empty when we consider using it to model a finite dataset, but the model has the capacity to increase the number of mixture components as data are added.</p>
<p>This model can be specified hierarchically by:</p>
<p><span class="math">\[\begin{aligned}
P &amp;\sim DP(\alpha P_0) \\
\theta_i &amp;\sim P \\
y_i &amp;\sim \mathcal{K}(y|\theta_i)
\end{aligned}\]</span></p>
<p>The computational hurdle is in how to characterize the mixture when we cannot generate infinite mixture components. For this, we will use another generative model metaphor, the <em>Chinese restaurant process</em>.</p>
</div>
<div class="text_cell_render border-box-sizing rendered_html">
<h2 id="chinese-restaurant-process">Chinese Restaurant Process</h2>
<p>Consider a hypothetical Chinese restaurant with an <em>infinite</em> number of tables.</p>
<div class="figure">
<img src="http://farm3.staticflickr.com/2153/2239018463_5f3e302c17_z.jpg" alt="chinese restaurant" /><p class="caption">chinese restaurant</p>
</div>
<ul>
<li><p>The first customer entering the restaurant sits at the first empty table.</p></li>
<li><p>The next customer either joins the first customer with some probability <span class="math">\(1/(1 + \alpha), \alpha&gt;0\)</span>, or selects an empty table with probability <span class="math">\(\alpha/(1 + \alpha)\)</span>.</p></li>
<li><p>Subsequent customers either join an occupied table with a probability proportional to the number of customers already at each table, or selects an empty table.</p></li>
</ul>
<p>This process is formalized as:</p>
<p><span class="math">\[p(\theta_i | \theta_1, \ldots, \theta_{i-1}) \sim \left(\frac{\alpha}{\alpha + 1 - 1}\right) P_0(\theta_i) + \sum_{j=1}^{i-1} \left(\frac{1}{\alpha + i - 1}\right)\delta_{\theta_j}\]</span></p>
<p>This is called the <em>Pólya urn model</em>.</p>
<p>Of course, the analogy here is that the customers are data and the tables are clusters. Hence, the process describes a prior on the partitioning of the data into clusters.</p>
</div>
<div class="cell border-box-sizing code_cell vbox">
<div class="input hbox">
<div class="prompt input_prompt">
In&nbsp;[20]:
</div>
<div class="input_area box-flex1">
<div class="highlight"><pre><span class="k">def</span> <span class="nf">chinese_restaurant_process</span><span class="p">(</span><span class="n">n</span><span class="p">,</span> <span class="n">alpha</span><span class="p">):</span>
    
    <span class="k">if</span> <span class="n">n</span> <span class="o">&lt;</span> <span class="mi">1</span><span class="p">:</span>
        <span class="k">return</span> <span class="bp">None</span>
    
    <span class="n">table_assignments</span> <span class="o">=</span> <span class="n">np</span><span class="o">.</span><span class="n">empty</span><span class="p">(</span><span class="n">n</span><span class="p">)</span>
    <span class="n">next_table</span> <span class="o">=</span> <span class="mi">0</span>
    
    <span class="k">for</span> <span class="n">c</span> <span class="ow">in</span> <span class="nb">range</span><span class="p">(</span><span class="n">n</span><span class="p">):</span>

        <span class="k">if</span> <span class="n">np</span><span class="o">.</span><span class="n">random</span><span class="o">.</span><span class="n">random</span><span class="p">()</span> <span class="o">&lt;</span> <span class="p">(</span><span class="mf">1.</span> <span class="o">*</span> <span class="n">alpha</span> <span class="o">/</span> <span class="p">(</span><span class="n">alpha</span> <span class="o">+</span> <span class="n">c</span><span class="p">)):</span>
            
            <span class="c"># Sit at new table</span>
            <span class="n">table_assignments</span><span class="p">[</span><span class="n">c</span><span class="p">]</span> <span class="o">=</span> <span class="n">next_table</span>
            <span class="n">next_table</span> <span class="o">+=</span> <span class="mi">1</span>
            
        <span class="k">else</span><span class="p">:</span>
            
            <span class="c"># Calculate selection probabilities as function of population</span>
            <span class="n">probs</span> <span class="o">=</span> <span class="p">[(</span><span class="n">table_assignments</span><span class="p">[:</span><span class="n">c</span><span class="p">]</span><span class="o">==</span><span class="n">i</span><span class="p">)</span><span class="o">.</span><span class="n">sum</span><span class="p">()</span><span class="o">/</span><span class="nb">float</span><span class="p">(</span><span class="n">c</span><span class="p">)</span> 
                     <span class="k">for</span> <span class="n">i</span> <span class="ow">in</span> <span class="nb">range</span><span class="p">(</span><span class="n">next_table</span><span class="p">)]</span>
            <span class="c"># Randomly assign to existing table</span>
            <span class="n">table_assignments</span><span class="p">[</span><span class="n">c</span><span class="p">]</span> <span class="o">=</span> <span class="n">choice</span><span class="p">(</span><span class="nb">range</span><span class="p">(</span><span class="n">next_table</span><span class="p">),</span> <span class="n">p</span><span class="o">=</span><span class="n">probs</span><span class="p">)</span>
        
    <span class="k">return</span> <span class="n">table_assignments</span>
</pre></div>

</div>
</div>

</div>
<div class="text_cell_render border-box-sizing rendered_html">
<p>Let's try a few runs. First, with 10 customers:</p>
</div>
<div class="cell border-box-sizing code_cell vbox">
<div class="input hbox">
<div class="prompt input_prompt">
In&nbsp;[21]:
</div>
<div class="input_area box-flex1">
<div class="highlight"><pre><span class="n">n</span> <span class="o">=</span> <span class="mi">10</span>
<span class="n">alpha</span> <span class="o">=</span> <span class="mi">1</span>

<span class="k">def</span> <span class="nf">plot_crp</span><span class="p">(</span><span class="n">table_nums</span><span class="p">,</span> <span class="n">ax</span><span class="o">=</span><span class="bp">None</span><span class="p">):</span>
    <span class="n">x</span> <span class="o">=</span> <span class="nb">range</span><span class="p">(</span><span class="nb">int</span><span class="p">(</span><span class="n">table_nums</span><span class="o">.</span><span class="n">max</span><span class="p">())</span> <span class="o">+</span> <span class="mi">1</span><span class="p">)</span>
    <span class="n">f</span> <span class="o">=</span> <span class="p">[(</span><span class="n">table_nums</span><span class="o">==</span><span class="n">i</span><span class="p">)</span><span class="o">.</span><span class="n">sum</span><span class="p">()</span> <span class="k">for</span> <span class="n">i</span> <span class="ow">in</span> <span class="nb">set</span><span class="p">(</span><span class="n">table_nums</span><span class="p">)]</span>
    <span class="k">if</span> <span class="n">ax</span> <span class="ow">is</span> <span class="bp">None</span><span class="p">:</span> <span class="n">ax</span> <span class="o">=</span> <span class="n">plt</span>
    <span class="n">ax</span><span class="o">.</span><span class="n">bar</span><span class="p">(</span><span class="n">x</span><span class="p">,</span> <span class="n">f</span><span class="p">)</span>
    
<span class="n">fig</span><span class="p">,</span> <span class="n">axes</span> <span class="o">=</span> <span class="n">plt</span><span class="o">.</span><span class="n">subplots</span><span class="p">(</span><span class="mi">2</span><span class="p">,</span> <span class="mi">5</span><span class="p">,</span> <span class="n">sharex</span><span class="o">=</span><span class="bp">True</span><span class="p">,</span> <span class="n">sharey</span><span class="o">=</span><span class="bp">True</span><span class="p">,</span> <span class="n">figsize</span><span class="o">=</span><span class="p">(</span><span class="mi">10</span><span class="p">,</span><span class="mi">6</span><span class="p">))</span>
<span class="k">for</span> <span class="n">ax</span> <span class="ow">in</span> <span class="n">np</span><span class="o">.</span><span class="n">ravel</span><span class="p">(</span><span class="n">axes</span><span class="p">):</span>
    <span class="n">plot_crp</span><span class="p">(</span><span class="n">chinese_restaurant_process</span><span class="p">(</span><span class="n">n</span><span class="p">,</span> <span class="n">alpha</span><span class="p">),</span> <span class="n">ax</span><span class="o">=</span><span class="n">ax</span><span class="p">)</span>
</pre></div>

</div>
</div>

<div class="vbox output_wrapper">
<div class="output vbox">


<div class="hbox output_area"><div class="prompt"></div>
<div class="box-flex1 output_subarea output_display_data">


<img src="data:image/png;base64,iVBORw0KGgoAAAANSUhEUgAAAlQAAAFyCAYAAAAzhUSfAAAABHNCSVQICAgIfAhkiAAAAAlwSFlz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==
">

</div>
</div>

</div>
</div>

</div>
<div class="text_cell_render border-box-sizing rendered_html">
<p>Then 100:</p>
</div>
<div class="cell border-box-sizing code_cell vbox">
<div class="input hbox">
<div class="prompt input_prompt">
In&nbsp;[22]:
</div>
<div class="input_area box-flex1">
<div class="highlight"><pre><span class="n">n</span> <span class="o">=</span> <span class="mi">100</span>

<span class="n">fig</span><span class="p">,</span> <span class="n">axes</span> <span class="o">=</span> <span class="n">plt</span><span class="o">.</span><span class="n">subplots</span><span class="p">(</span><span class="mi">2</span><span class="p">,</span> <span class="mi">5</span><span class="p">,</span> <span class="n">sharex</span><span class="o">=</span><span class="bp">True</span><span class="p">,</span> <span class="n">sharey</span><span class="o">=</span><span class="bp">True</span><span class="p">,</span> <span class="n">figsize</span><span class="o">=</span><span class="p">(</span><span class="mi">10</span><span class="p">,</span><span class="mi">6</span><span class="p">))</span>
<span class="k">for</span> <span class="n">ax</span> <span class="ow">in</span> <span class="n">np</span><span class="o">.</span><span class="n">ravel</span><span class="p">(</span><span class="n">axes</span><span class="p">):</span>
    <span class="n">plot_crp</span><span class="p">(</span><span class="n">chinese_restaurant_process</span><span class="p">(</span><span class="n">n</span><span class="p">,</span> <span class="n">alpha</span><span class="p">),</span> <span class="n">ax</span><span class="o">=</span><span class="n">ax</span><span class="p">)</span>
</pre></div>

</div>
</div>

<div class="vbox output_wrapper">
<div class="output vbox">


<div class="hbox output_area"><div class="prompt"></div>
<div class="box-flex1 output_subarea output_display_data">


<img src="data:image/png;base64,iVBORw0KGgoAAAANSUhEUgAAAlkAAAFyCAYAAADGe88vAAAABHNCSVQICAgIfAhkiAAAAAlwSFlz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==
">

</div>
</div>

</div>
</div>

</div>
<div class="text_cell_render border-box-sizing rendered_html">
<p>And 500:</p>
</div>
<div class="cell border-box-sizing code_cell vbox">
<div class="input hbox">
<div class="prompt input_prompt">
In&nbsp;[23]:
</div>
<div class="input_area box-flex1">
<div class="highlight"><pre><span class="n">n</span> <span class="o">=</span> <span class="mi">500</span>

<span class="n">fig</span><span class="p">,</span> <span class="n">axes</span> <span class="o">=</span> <span class="n">plt</span><span class="o">.</span><span class="n">subplots</span><span class="p">(</span><span class="mi">2</span><span class="p">,</span> <span class="mi">5</span><span class="p">,</span> <span class="n">sharex</span><span class="o">=</span><span class="bp">True</span><span class="p">,</span> <span class="n">sharey</span><span class="o">=</span><span class="bp">True</span><span class="p">,</span> <span class="n">figsize</span><span class="o">=</span><span class="p">(</span><span class="mi">10</span><span class="p">,</span><span class="mi">6</span><span class="p">))</span>
<span class="k">for</span> <span class="n">ax</span> <span class="ow">in</span> <span class="n">np</span><span class="o">.</span><span class="n">ravel</span><span class="p">(</span><span class="n">axes</span><span class="p">):</span>
    <span class="n">plot_crp</span><span class="p">(</span><span class="n">chinese_restaurant_process</span><span class="p">(</span><span class="n">n</span><span class="p">,</span> <span class="n">alpha</span><span class="p">),</span> <span class="n">ax</span><span class="o">=</span><span class="n">ax</span><span class="p">)</span>
</pre></div>

</div>
</div>

<div class="vbox output_wrapper">
<div class="output vbox">


<div class="hbox output_area"><div class="prompt"></div>
<div class="box-flex1 output_subarea output_display_data">


<img src="data:image/png;base64,iVBORw0KGgoAAAANSUhEUgAAAlkAAAFyCAYAAADGe88vAAAABHNCSVQICAgIfAhkiAAAAAlwSFlz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">

</div>
</div>

</div>
</div>

</div>
<div class="text_cell_render border-box-sizing rendered_html">
<p>Notice that the number of occupied tables increases with <span class="math">\(n\)</span> (and with <span class="math">\(\alpha\)</span>). Hence, in the context of a prior on the number of clusters, the process is non-parametric (grows approximately as <span class="math">\(\mathcal{O}(\log(n)\)</span>)).</p>
</div>
<div class="text_cell_render border-box-sizing rendered_html">
<p>If we examine the sample draws from either the Chinese restaurant process or the stick-breaking process above, it is apparent that each sample represents a realization from the same underlying process (when the parameter values are the same). We can use either of these generative processes to generate weights for the DP.</p>
<p>Alternately, we could use a CRP to generate groups (tables), where each element from the same group would be assigned the same value sampled from <span class="math">\(P_0\)</span>.</p>
</div>
<div class="text_cell_render border-box-sizing rendered_html">
<h2 id="non-parametric-residuals-in-hierarchical-models">Non-parametric Residuals in Hierarchical Models</h2>
<p>A standard parametric assumption in linear and hierarchical modeling is that errors or random effects are Gaussian. For example,</p>
<p><span class="math">\[y_i = X_i \beta + \epsilon_i\]</span></p>
<p><span class="math">\[\epsilon_i \sim f\]</span></p>
<p>where the error distribution is typically specified as <span class="math">\(f = N(0,\sigma^2)\)</span>. In robust regression, this restriction is partially relaxed by assuming a Student's <span class="math">\(t\)</span> model, which downweights the influence of outliers, but the shape is still restrictive.</p>
<p>A more flexible alternative is to use an infinite mixture of normals for <span class="math">\(f\)</span>, using a Dirichlet process:</p>
<p><span class="math">\[\begin{aligned}
P &amp;\sim DP(\alpha P_0) \\
\tau_i &amp;\sim P \\
\epsilon_i &amp;\sim N(0, \tau_i^{-1})
\end{aligned}\]</span></p>
<p>If we specify <span class="math">\(P_0\)</span> as <span class="math">\(\text{Gamma}(\nu/2, \nu/2)\)</span>, the corresponding DP is centered on a <span class="math">\(t\)</span> distribution, which still models the error distribution as unimodal and zero mean. This too can be relaxed by modeling <span class="math">\(f\)</span> as a mixture of Gaussians:</p>
<p><span class="math">\[\begin{aligned}
\tau &amp;\sim \text{Gamma}(a, b) \\
P_0 &amp;= N(0, \tau^{-1}) \\
P &amp;\sim DP(\alpha P_0) \\
\mu_i &amp;\sim P \\
\epsilon_i &amp;\sim N(\mu_i, \tau^{-1})
\end{aligned}\]</span></p>
<p>In the context of hierarchical models, we may want to model individual variation in some parameter, such as a subject-varying mean:</p>
<p><span class="math">\[\begin{aligned}y_{ij} &amp;= \mu_i + \epsilon_{ij} \\
\mu_i &amp;\sim f \\
\epsilon_{ij} &amp;\sim g
\end{aligned}\]</span></p>
<p>where <span class="math">\(y_{i}\)</span> is a vector of <span class="math">\(j = 1,\ldots,n_i\)</span> repreated measurements for individual <span class="math">\(i\)</span>. In the majority of applications, both <span class="math">\(f\)</span> and <span class="math">\(g\)</span> are specified with normal distributions.</p>
<p>If we want a less-restrictive form for this random effect, we can place a DP prior on the <span class="math">\(\mu_{i}\)</span>.</p>
<p><span class="math">\[\mu_i \sim P\]</span></p>
<p><span class="math">\[P \sim DP(\alpha P_0)\]</span></p>
<p>This approach induces a latent class model on the <span class="math">\(\mu_i\)</span>, where there are an unknown number of clusters:</p>
<p><span class="math">\[\mu_i = \mu_{S_i}\]</span></p>
<p><span class="math">\[Pr(S_i = h) = \pi_h\]</span></p>
<p>where <span class="math">\(\pi_h\)</span> is the probability of allocation to class <span class="math">\(h = 1, \ldots, \infty\)</span>. This will result in a posterior distribution of cluster allocations (and hence, for the <span class="math">\(\mu_i\)</span>), since the clustering is probabilistic.</p>
<p>Since we do not observed the <span class="math">\(\mu_i\)</span> directly, it relies on information in the repeated measurements for each individual, so this model will not be useful for <span class="math">\(n_i\)</span> = 1.</p>
</div>
<div class="text_cell_render border-box-sizing rendered_html">
<h2 id="example-estimating-household-radon-levels">Example: Estimating household radon levels</h2>
<p>As an example of implementing Dirichlet processes for random effects, I'm going to use the radon measurement and remediation example from <a href="http://amzn.to/gFfJbs">Gelman and Hill (2006)</a>. This problem uses measurements of <a href="http://en.wikipedia.org/wiki/Radon">radon</a> (a carcinogenic, radioactive gas) from households in 85 counties in Minnesota to estimate the distribution of the substance across the state. This dataset has a natural hierarchical structure, with individual measurements nested within households, and households in turn nested within counties. Here, we are certainly interested in modeling the variation in counties, but do not have covariates measured at that level. Since we are more interested in the variation among counties, rather than the particular levels for each, a random effects model is appropriate.</p>
<p>In the original example from Gelman and Hill, measurements are modeled as being normally distributed, with a mean that is a hierarchical function of both a county-level random effect and a fixed effect that accounted for whether houses had a basement (this is thought to increase radon levels).</p>
<p><span class="math">\[ y_i \sim N(\alpha_{j[i]} + \beta x_i, \sigma_y^2) \]</span></p>
<p>So, in essence, each county has its own slope, but shares a slope among all counties. This can easily be generalized to both random slopes and intercepts, but I'm going to keep things simple, in order to focus in implementing a single random effect.</p>
<p>The constraint that is applied to the intercepts in Gelman and Hill's original model is that they have a common distribution (Gaussian) that describes how they vary from the state-wide mean.</p>
<p><span class="math">\[ \alpha_j \sim N(\mu_{\alpha}, \sigma_{\alpha}^2) \]</span></p>
<p>This comprises a so-called &quot;partial pooling&quot; model, whereby counties are neither constrained to have identical means (full pooling) nor are assumed to have completely independent means (no pooling); in most applications, the truth is somewhere between these two extremes. Though this is a very flexible approach to accounting for county-level variance, one might be worried about imposing such a restrictive (thin-tailed) distribution like the normal on this variance. If there are counties that have extremely low or high levels (for whatever reason), this model will fit poorly. To allay such worries, we can hedge our bets by selecting a more forgiving functional form, such as [Student's t](http://en.wikipedia.org/wiki/Student's_t-distribution) or <a href="http://en.wikipedia.org/wiki/Cauchy_distribution">Cauchy</a>, but these still impose parametric restrictions (<em>e.g.</em> symmetry about the mean) that we may be uncomfortable making. So, in the interest of even greater flexibility, we will replace the normal county random effect with a non-parametric alternative, using a Dirichlet process.</p>
<p>First, let's import the data:</p>
</div>
<div class="cell border-box-sizing code_cell vbox">
<div class="input hbox">
<div class="prompt input_prompt">
In&nbsp;[24]:
</div>
<div class="input_area box-flex1">
<div class="highlight"><pre><span class="kn">import</span> <span class="nn">pandas</span> <span class="kn">as</span> <span class="nn">pd</span>

<span class="c"># Import radon data</span>
<span class="n">srrs2</span> <span class="o">=</span> <span class="n">pd</span><span class="o">.</span><span class="n">read_csv</span><span class="p">(</span><span class="s">&#39;../data/srrs2.dat&#39;</span><span class="p">)</span>
<span class="n">srrs2</span><span class="o">.</span><span class="n">columns</span> <span class="o">=</span> <span class="n">srrs2</span><span class="o">.</span><span class="n">columns</span><span class="o">.</span><span class="n">map</span><span class="p">(</span><span class="nb">str</span><span class="o">.</span><span class="n">strip</span><span class="p">)</span>
<span class="n">srrs_mn</span> <span class="o">=</span> <span class="n">srrs2</span><span class="p">[</span><span class="n">srrs2</span><span class="o">.</span><span class="n">state</span><span class="o">==</span><span class="s">&#39;MN&#39;</span><span class="p">]</span>

<span class="n">counties</span> <span class="o">=</span> <span class="n">srrs_mn</span><span class="o">.</span><span class="n">county</span><span class="o">.</span><span class="n">values</span>
<span class="n">y</span> <span class="o">=</span> <span class="n">srrs_mn</span><span class="o">.</span><span class="n">activity</span><span class="o">.</span><span class="n">values</span>
<span class="n">x</span> <span class="o">=</span> <span class="n">srrs_mn</span><span class="o">.</span><span class="n">floor</span><span class="o">.</span><span class="n">values</span>

<span class="c">## gelman adjustment for log</span>
<span class="n">y</span><span class="p">[</span><span class="n">y</span><span class="o">==</span><span class="mi">0</span><span class="p">]</span><span class="o">=.</span><span class="mi">1</span>
<span class="n">y</span> <span class="o">=</span> <span class="n">np</span><span class="o">.</span><span class="n">log</span><span class="p">(</span><span class="n">y</span><span class="p">)</span>

<span class="c">## groupings</span>
<span class="k">def</span> <span class="nf">createCountyIndex</span><span class="p">(</span><span class="n">counties</span><span class="p">):</span>
    <span class="n">counties_uniq</span> <span class="o">=</span> <span class="nb">sorted</span><span class="p">(</span><span class="nb">set</span><span class="p">(</span><span class="n">counties</span><span class="p">))</span>
    <span class="n">counties_dict</span> <span class="o">=</span> <span class="nb">dict</span><span class="p">()</span>
    <span class="k">for</span> <span class="n">i</span><span class="p">,</span> <span class="n">v</span> <span class="ow">in</span> <span class="nb">enumerate</span><span class="p">(</span><span class="n">counties_uniq</span><span class="p">):</span>
        <span class="n">counties_dict</span><span class="p">[</span><span class="n">v</span><span class="p">]</span> <span class="o">=</span> <span class="n">i</span>
    <span class="n">ans</span> <span class="o">=</span> <span class="n">np</span><span class="o">.</span><span class="n">empty</span><span class="p">(</span><span class="nb">len</span><span class="p">(</span><span class="n">counties</span><span class="p">),</span><span class="n">dtype</span><span class="o">=</span><span class="s">&#39;int&#39;</span><span class="p">)</span>
    <span class="k">for</span> <span class="n">i</span> <span class="ow">in</span> <span class="nb">range</span><span class="p">(</span><span class="mi">0</span><span class="p">,</span><span class="nb">len</span><span class="p">(</span><span class="n">counties</span><span class="p">)):</span>
        <span class="n">ans</span><span class="p">[</span><span class="n">i</span><span class="p">]</span> <span class="o">=</span> <span class="n">counties_dict</span><span class="p">[</span><span class="n">counties</span><span class="p">[</span><span class="n">i</span><span class="p">]]</span>
    <span class="k">return</span> <span class="n">ans</span>

<span class="n">index_c</span> <span class="o">=</span> <span class="n">createCountyIndex</span><span class="p">(</span><span class="n">counties</span><span class="p">)</span>
</pre></div>

</div>
</div>

</div>
<div class="text_cell_render border-box-sizing rendered_html">
<p>One of the difficulties in implementing DP computationally is how to handle an infinite mixture. The easiest way to tackle this is by using a truncated Dirichlet process to approximate the full process. This can be done by choosing a size <span class="math">\(k\)</span> that is sufficiently large that it will exceed the number of point masses required. By doing this, we are assuming</p>
<p><span class="math">\[ \sum_{i=1}^{\infty} p_i I(x=\theta_i) \approx \sum_{i=1}^{N} p_i I(x=\theta_i) \]</span></p>
<p><a href="http://onlinelibrary.wiley.com/doi/10.1002/sim.2666/abstract">Ohlssen et al. 2007</a> provide a rule of thumb for choosing <span class="math">\(N\)</span> such that the sum of the first <span class="math">\(k-1\)</span> point masses is greater than 0.99:</p>
<p><span class="math">\[ k \approx 5\alpha + 2 \]</span></p>
<p>To be conservative, we will choose an even larger value (100), which we will call <code>N_dp</code>.</p>
</div>
<div class="cell border-box-sizing code_cell vbox">
<div class="input hbox">
<div class="prompt input_prompt">
In&nbsp;[25]:
</div>
<div class="input_area box-flex1">
<div class="highlight"><pre><span class="n">N_dp</span> <span class="o">=</span> <span class="mi">100</span>
</pre></div>

</div>
</div>

</div>
<div class="text_cell_render border-box-sizing rendered_html">
<p>We first must specify the baseline distribution and the concentration parameter. As we have no prior information to inform a choice for <span class="math">\(\alpha\)</span>, we will specify a uniform prior for it, with reasonable bounds:</p>
</div>
<div class="cell border-box-sizing code_cell vbox">
<div class="input hbox">
<div class="prompt input_prompt">
In&nbsp;[26]:
</div>
<div class="input_area box-flex1">
<div class="highlight"><pre><span class="kn">import</span> <span class="nn">pymc</span> <span class="kn">as</span> <span class="nn">pm</span>

<span class="n">alpha</span> <span class="o">=</span> <span class="n">pm</span><span class="o">.</span><span class="n">Uniform</span><span class="p">(</span><span class="s">&#39;alpha&#39;</span><span class="p">,</span> <span class="n">lower</span><span class="o">=</span><span class="mf">0.5</span><span class="p">,</span> <span class="n">upper</span><span class="o">=</span><span class="mi">10</span><span class="p">)</span>
</pre></div>

</div>
</div>

</div>
<div class="text_cell_render border-box-sizing rendered_html">
<p>Though the upper bound may seem small for a prior that purports to be uninformative, recall that for large values of <span class="math">\(\alpha\)</span>, the DP will converge to the baseline distribution, suggesting that a continuous distribution would be more appropriate.</p>
<p>Since we are extending a normal random effects model, I will choose a Student's <span class="math">\(t\)</span> baseline distribution, with vague hyperpriors:</p>
</div>
<div class="cell border-box-sizing code_cell vbox">
<div class="input hbox">
<div class="prompt input_prompt">
In&nbsp;[27]:
</div>
<div class="input_area box-flex1">
<div class="highlight"><pre><span class="n">nu</span> <span class="o">=</span> <span class="nb">len</span><span class="p">(</span><span class="nb">set</span><span class="p">(</span><span class="n">counties</span><span class="p">))</span> <span class="o">-</span> <span class="mi">1</span>
<span class="n">tau_0</span> <span class="o">=</span> <span class="n">pm</span><span class="o">.</span><span class="n">Gamma</span><span class="p">(</span><span class="s">&#39;tau_0&#39;</span><span class="p">,</span> <span class="n">nu</span><span class="o">/</span><span class="mf">2.</span><span class="p">,</span> <span class="n">nu</span><span class="o">/</span><span class="mf">2.</span><span class="p">,</span> <span class="n">size</span><span class="o">=</span><span class="n">N_dp</span><span class="p">)</span>
<span class="n">mu_0</span> <span class="o">=</span> <span class="n">pm</span><span class="o">.</span><span class="n">Normal</span><span class="p">(</span><span class="s">&#39;mu_0&#39;</span><span class="p">,</span> <span class="n">mu</span><span class="o">=</span><span class="mi">0</span><span class="p">,</span> <span class="n">tau</span><span class="o">=</span><span class="mf">0.01</span><span class="p">,</span> <span class="n">value</span><span class="o">=</span><span class="mi">0</span><span class="p">)</span>

<span class="n">theta</span> <span class="o">=</span> <span class="n">pm</span><span class="o">.</span><span class="n">Normal</span><span class="p">(</span><span class="s">&#39;theta&#39;</span><span class="p">,</span> <span class="n">mu</span><span class="o">=</span><span class="n">mu_0</span><span class="p">,</span> <span class="n">tau</span><span class="o">=</span><span class="n">tau_0</span><span class="p">)</span>
</pre></div>

</div>
</div>

</div>
<div class="text_cell_render border-box-sizing rendered_html">
<p>Notice that I have specified a uniform prior on the standard deviation, rather than the more common <a href="http://en.wikipedia.org/wiki/Gamma_distribution">gamma</a>-distributed precision; for hierarchical models this is <a href="http://ba.stat.cmu.edu/journal/2006/vol01/issue03/gelman.pdf">good practice</a>. So, now we that we have <code>N_dp</code> point masses, all that remains is to generate corresponding probabilities. Following the recipe above:</p>
</div>
<div class="cell border-box-sizing code_cell vbox">
<div class="input hbox">
<div class="prompt input_prompt">
In&nbsp;[28]:
</div>
<div class="input_area box-flex1">
<div class="highlight"><pre><span class="n">v</span> <span class="o">=</span> <span class="n">pm</span><span class="o">.</span><span class="n">Beta</span><span class="p">(</span><span class="s">&#39;v&#39;</span><span class="p">,</span> <span class="n">alpha</span><span class="o">=</span><span class="mi">1</span><span class="p">,</span> <span class="n">beta</span><span class="o">=</span><span class="n">alpha</span><span class="p">,</span> <span class="n">size</span><span class="o">=</span><span class="n">N_dp</span><span class="p">)</span>

<span class="nd">@pm.deterministic</span>
<span class="k">def</span> <span class="nf">p</span><span class="p">(</span><span class="n">v</span><span class="o">=</span><span class="n">v</span><span class="p">):</span>
    <span class="sd">&quot;&quot;&quot; Calculate Dirichlet probabilities &quot;&quot;&quot;</span>

    <span class="c"># Probabilities from betas</span>
    <span class="n">value</span> <span class="o">=</span> <span class="p">[</span><span class="n">u</span><span class="o">*</span><span class="n">np</span><span class="o">.</span><span class="n">prod</span><span class="p">(</span><span class="mi">1</span><span class="o">-</span><span class="n">v</span><span class="p">[:</span><span class="n">i</span><span class="p">])</span> <span class="k">for</span> <span class="n">i</span><span class="p">,</span><span class="n">u</span> <span class="ow">in</span> <span class="nb">enumerate</span><span class="p">(</span><span class="n">v</span><span class="p">)]</span>
    <span class="c"># Enforce sum to unity constraint</span>
    <span class="n">value</span> <span class="o">/=</span> <span class="n">np</span><span class="o">.</span><span class="n">sum</span><span class="p">(</span><span class="n">value</span><span class="p">)</span>

    <span class="k">return</span> <span class="n">value</span>

<span class="c"># Expected value of random effect</span>
<span class="n">E_dp</span> <span class="o">=</span> <span class="n">pm</span><span class="o">.</span><span class="n">Lambda</span><span class="p">(</span><span class="s">&#39;E_dp&#39;</span><span class="p">,</span> <span class="k">lambda</span> <span class="n">p</span><span class="o">=</span><span class="n">p</span><span class="p">,</span> <span class="n">theta</span><span class="o">=</span><span class="n">theta</span><span class="p">:</span> <span class="n">np</span><span class="o">.</span><span class="n">dot</span><span class="p">(</span><span class="n">p</span><span class="p">,</span> <span class="n">theta</span><span class="p">))</span>
</pre></div>

</div>
</div>

</div>
<div class="text_cell_render border-box-sizing rendered_html">
<p>This is where you really appreciate Python's <a href="http://docs.python.org/tutorial/datastructures.html#list-comprehensions">list comprehension</a> idiom. In fact, were it not for the fact that we wanted to ensure that the array of probabilities sums to one, <code>p</code> could have been specified in a single line.</p>
<p>The final step involves using the Dirichlet probabilities to generate indices to the appropriate point masses. This is realized using a categorical mass function:</p>
</div>
<div class="cell border-box-sizing code_cell vbox">
<div class="input hbox">
<div class="prompt input_prompt">
In&nbsp;[29]:
</div>
<div class="input_area box-flex1">
<div class="highlight"><pre><span class="n">z</span> <span class="o">=</span> <span class="n">pm</span><span class="o">.</span><span class="n">Categorical</span><span class="p">(</span><span class="s">&#39;z&#39;</span><span class="p">,</span> <span class="n">p</span><span class="p">,</span> <span class="n">size</span><span class="o">=</span><span class="nb">len</span><span class="p">(</span><span class="nb">set</span><span class="p">(</span><span class="n">counties</span><span class="p">)))</span>
</pre></div>

</div>
</div>

</div>
<div class="text_cell_render border-box-sizing rendered_html">
<p>These indices, in turn, are used to index the random effects, which are used as random intercepts for the model.</p>
</div>
<div class="cell border-box-sizing code_cell vbox">
<div class="input hbox">
<div class="prompt input_prompt">
In&nbsp;[30]:
</div>
<div class="input_area box-flex1">
<div class="highlight"><pre><span class="c"># Index random effect</span>
<span class="n">a</span> <span class="o">=</span> <span class="n">pm</span><span class="o">.</span><span class="n">Lambda</span><span class="p">(</span><span class="s">&#39;a&#39;</span><span class="p">,</span> <span class="k">lambda</span> <span class="n">z</span><span class="o">=</span><span class="n">z</span><span class="p">,</span> <span class="n">theta</span><span class="o">=</span><span class="n">theta</span><span class="p">:</span> <span class="n">theta</span><span class="p">[</span><span class="n">z</span><span class="p">])</span>

<span class="n">b</span> <span class="o">=</span> <span class="n">pm</span><span class="o">.</span><span class="n">Normal</span><span class="p">(</span><span class="s">&#39;b&#39;</span><span class="p">,</span> <span class="n">mu</span><span class="o">=</span><span class="mf">0.</span><span class="p">,</span> <span class="n">tau</span><span class="o">=</span><span class="mf">0.0001</span><span class="p">)</span>

<span class="n">y_hat</span> <span class="o">=</span> <span class="n">pm</span><span class="o">.</span><span class="n">Lambda</span><span class="p">(</span><span class="s">&#39;y_hat&#39;</span><span class="p">,</span> <span class="k">lambda</span> <span class="n">a</span><span class="o">=</span><span class="n">a</span><span class="p">,</span> <span class="n">b</span><span class="o">=</span><span class="n">b</span><span class="p">:</span> <span class="n">a</span><span class="p">[</span><span class="n">index_c</span><span class="p">]</span> <span class="o">+</span> <span class="n">b</span><span class="o">*</span><span class="n">x</span><span class="p">)</span>
</pre></div>

</div>
</div>

</div>
<div class="cell border-box-sizing code_cell vbox">
<div class="input hbox">
<div class="prompt input_prompt">
In&nbsp;[31]:
</div>
<div class="input_area box-flex1">
<div class="highlight"><pre><span class="n">sigma_y</span> <span class="o">=</span> <span class="n">pm</span><span class="o">.</span><span class="n">Uniform</span><span class="p">(</span><span class="s">&#39;sigma_y&#39;</span><span class="p">,</span> <span class="n">lower</span><span class="o">=</span><span class="mi">0</span><span class="p">,</span> <span class="n">upper</span><span class="o">=</span><span class="mi">100</span><span class="p">)</span>
<span class="n">tau_y</span> <span class="o">=</span> <span class="n">sigma_y</span><span class="o">**-</span><span class="mi">2</span>

<span class="n">y_like</span> <span class="o">=</span> <span class="n">pm</span><span class="o">.</span><span class="n">Normal</span><span class="p">(</span><span class="s">&#39;y_like&#39;</span><span class="p">,</span> <span class="n">mu</span><span class="o">=</span><span class="n">y_hat</span><span class="p">,</span> <span class="n">tau</span><span class="o">=</span><span class="n">tau_y</span><span class="p">,</span> <span class="n">value</span><span class="o">=</span><span class="n">y</span><span class="p">,</span> <span class="n">observed</span><span class="o">=</span><span class="bp">True</span><span class="p">)</span>
</pre></div>

</div>
</div>

</div>
<div class="cell border-box-sizing code_cell vbox">
<div class="input hbox">
<div class="prompt input_prompt">
In&nbsp;[32]:
</div>
<div class="input_area box-flex1">
<div class="highlight"><pre><span class="n">M</span> <span class="o">=</span> <span class="n">pm</span><span class="o">.</span><span class="n">MCMC</span><span class="p">([</span><span class="n">a</span><span class="p">,</span> <span class="n">b</span><span class="p">,</span> <span class="n">sigma_y</span><span class="p">,</span> <span class="n">y_like</span><span class="p">,</span> <span class="n">z</span><span class="p">,</span> <span class="n">v</span><span class="p">,</span> <span class="n">mu_0</span><span class="p">,</span> <span class="n">tau_0</span><span class="p">,</span> <span class="n">theta</span><span class="p">,</span> <span class="n">alpha</span><span class="p">,</span> <span class="n">E_dp</span><span class="p">])</span>
</pre></div>

</div>
</div>

</div>
<div class="cell border-box-sizing code_cell vbox">
<div class="input hbox">
<div class="prompt input_prompt">
In&nbsp;[33]:
</div>
<div class="input_area box-flex1">
<div class="highlight"><pre><span class="n">M</span><span class="o">.</span><span class="n">sample</span><span class="p">(</span><span class="mi">20000</span><span class="p">,</span> <span class="mi">10000</span><span class="p">)</span>
</pre></div>

</div>
</div>

<div class="vbox output_wrapper">
<div class="output vbox">


<div class="hbox output_area"><div class="prompt"></div>
<div class="box-flex1 output_subarea output_stream output_stdout">
<pre>
 [-                 2%                  ] 598 of 20000 complete in 0.5 sec [--                5%                  ] 1091 of 20000 complete in 1.0 sec [--                7%                  ] 1529 of 20000 complete in 1.5 sec [---              10%                  ] 2090 of 20000 complete in 2.0 sec [----             12%                  ] 2554 of 20000 complete in 2.5 sec [-----            15%                  ] 3014 of 20000 complete in 3.0 sec [------           16%                  ] 3340 of 20000 complete in 3.5 sec [-------          18%                  ] 3759 of 20000 complete in 4.0 sec [-------          20%                  ] 4069 of 20000 complete in 4.5 sec [--------         22%                  ] 4439 of 20000 complete in 5.0 sec [---------        23%                  ] 4792 of 20000 complete in 5.5 sec [---------        26%                  ] 5218 of 20000 complete in 6.0 sec [----------       28%                  ] 5634 of 20000 complete in 6.5 sec [-----------      30%                  ] 6035 of 20000 complete in 7.0 sec [------------     31%                  ] 6338 of 20000 complete in 7.5 sec [------------     33%                  ] 6649 of 20000 complete in 8.0 sec [-------------    34%                  ] 6978 of 20000 complete in 8.5 sec [--------------   36%                  ] 7398 of 20000 complete in 9.0 sec [--------------   39%                  ] 7810 of 20000 complete in 9.5 sec [---------------  40%                  ] 8156 of 20000 complete in 10.0 sec [---------------- 42%                  ] 8553 of 20000 complete in 10.5 sec [-----------------45%                  ] 9005 of 20000 complete in 11.0 sec [-----------------47%                  ] 9430 of 20000 complete in 11.5 sec [-----------------48%                  ] 9761 of 20000 complete in 12.0 sec [-----------------50%                  ] 10101 of 20000 complete in 12.5 sec [-----------------51%                  ] 10347 of 20000 complete in 13.0 sec [-----------------53%                  ] 10649 of 20000 complete in 13.5 sec [-----------------54%                  ] 10924 of 20000 complete in 14.0 sec [-----------------55%-                 ] 11179 of 20000 complete in 14.5 sec [-----------------57%-                 ] 11460 of 20000 complete in 15.0 sec [-----------------58%--                ] 11743 of 20000 complete in 15.5 sec [-----------------60%--                ] 12058 of 20000 complete in 16.0 sec [-----------------62%---               ] 12411 of 20000 complete in 16.5 sec [-----------------64%----              ] 12801 of 20000 complete in 17.0 sec [-----------------65%-----             ] 13161 of 20000 complete in 17.5 sec [-----------------67%-----             ] 13433 of 20000 complete in 18.0 sec [-----------------68%------            ] 13695 of 20000 complete in 18.5 sec [-----------------69%------            ] 13964 of 20000 complete in 19.0 sec [-----------------71%-------           ] 14276 of 20000 complete in 19.5 sec [-----------------73%-------           ] 14611 of 20000 complete in 20.0 sec [-----------------74%--------          ] 14919 of 20000 complete in 20.5 sec [-----------------76%--------          ] 15242 of 20000 complete in 21.0 sec [-----------------77%---------         ] 15527 of 20000 complete in 21.5 sec [-----------------79%----------        ] 15822 of 20000 complete in 22.0 sec [-----------------80%----------        ] 16124 of 20000 complete in 22.5 sec [-----------------82%-----------       ] 16424 of 20000 complete in 23.0 sec [-----------------83%-----------       ] 16793 of 20000 complete in 23.5 sec [-----------------85%------------      ] 17089 of 20000 complete in 24.0 sec [-----------------87%-------------     ] 17411 of 20000 complete in 24.5 sec [-----------------88%-------------     ] 17684 of 20000 complete in 25.0 sec [-----------------90%--------------    ] 18001 of 20000 complete in 25.5 sec [-----------------91%--------------    ] 18291 of 20000 complete in 26.0 sec [-----------------92%---------------   ] 18562 of 20000 complete in 26.5 sec [-----------------94%---------------   ] 18807 of 20000 complete in 27.0 sec [-----------------95%----------------  ] 19025 of 20000 complete in 27.6 sec [-----------------96%----------------  ] 19334 of 20000 complete in 28.1 sec [-----------------98%----------------- ] 19671 of 20000 complete in 28.6 sec [-----------------99%----------------- ] 19932 of 20000 complete in 29.1 sec [-----------------100%-----------------] 20000 of 20000 complete in 29.2 sec
</pre>
</div>
</div>

</div>
</div>

</div>
<div class="text_cell_render border-box-sizing rendered_html">
<p>Substitution of the above code into Gelman and Hill's original model produces reasonable results. The expected value of <span class="math">\(\\alpha\)</span> is approximately 1.35, as shown by the posterior output below:</p>
</div>
<div class="cell border-box-sizing code_cell vbox">
<div class="input hbox">
<div class="prompt input_prompt">
In&nbsp;[34]:
</div>
<div class="input_area box-flex1">
<div class="highlight"><pre><span class="n">pm</span><span class="o">.</span><span class="n">Matplot</span><span class="o">.</span><span class="n">plot</span><span class="p">(</span><span class="n">E_dp</span><span class="p">)</span>
</pre></div>

</div>
</div>

<div class="vbox output_wrapper">
<div class="output vbox">


<div class="hbox output_area"><div class="prompt"></div>
<div class="box-flex1 output_subarea output_stream output_stdout">
<pre>
Plotting E_dp

</pre>
</div>
</div>

<div class="hbox output_area"><div class="prompt"></div>
<div class="box-flex1 output_subarea output_display_data">


<img src="data:image/png;base64,iVBORw0KGgoAAAANSUhEUgAAAmEAAAFyCAYAAAC9Xw3jAAAABHNCSVQICAgIfAhkiAAAAAlwSFlz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=
">

</div>
</div>

</div>
</div>

</div>
<div class="text_cell_render border-box-sizing rendered_html">
<p>Here is a random sample taken from the DP:</p>
</div>
<div class="cell border-box-sizing code_cell vbox">
<div class="input hbox">
<div class="prompt input_prompt">
In&nbsp;[35]:
</div>
<div class="input_area box-flex1">
<div class="highlight"><pre><span class="n">plt</span><span class="o">.</span><span class="n">hist</span><span class="p">(</span><span class="n">a</span><span class="o">.</span><span class="n">trace</span><span class="p">()[</span><span class="mi">105</span><span class="p">])</span>
</pre></div>

</div>
</div>

<div class="vbox output_wrapper">
<div class="output vbox">


<div class="hbox output_area"><div class="prompt output_prompt">
    Out[35]:</div>
<div class="box-flex1 output_subarea output_pyout">


<pre>
(array([  1.,   1.,   2.,   2.,  16.,  19.,  25.,   8.,   0.,  11.]),
 array([ 0.1056205 ,  0.32071154,  0.53580258,  0.75089362,  0.96598466,
         1.1810757 ,  1.39616674,  1.61125778,  1.82634883,  2.04143987,
         2.25653091]),
 &lt;a list of 10 Patch objects&gt;)
</pre>

</div>
</div>

<div class="hbox output_area"><div class="prompt"></div>
<div class="box-flex1 output_subarea output_display_data">


<img src="data:image/png;base64,iVBORw0KGgoAAAANSUhEUgAAAXUAAAECCAYAAAAB2kexAAAABHNCSVQICAgIfAhkiAAAAAlwSFlz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">

</div>
</div>

</div>
</div>

</div>
<div class="text_cell_render border-box-sizing rendered_html">
<p>But is the model better? We can compare this model to a convnetional normal random effect.</p>
</div>
<div class="cell border-box-sizing code_cell vbox">
<div class="input hbox">
<div class="prompt input_prompt">
In&nbsp;[36]:
</div>
<div class="input_area box-flex1">
<div class="highlight"><pre><span class="k">def</span> <span class="nf">radon_normal</span><span class="p">():</span>
    
    <span class="c"># Hyperpriors</span>
    <span class="n">mu_0</span> <span class="o">=</span> <span class="n">pm</span><span class="o">.</span><span class="n">Normal</span><span class="p">(</span><span class="s">&#39;mu_0&#39;</span><span class="p">,</span> <span class="n">mu</span><span class="o">=</span><span class="mi">0</span><span class="p">,</span> <span class="n">tau</span><span class="o">=</span><span class="mf">0.01</span><span class="p">,</span> <span class="n">value</span><span class="o">=</span><span class="mi">0</span><span class="p">)</span>
    <span class="n">sig_0</span> <span class="o">=</span> <span class="n">pm</span><span class="o">.</span><span class="n">Uniform</span><span class="p">(</span><span class="s">&#39;sig_0&#39;</span><span class="p">,</span> <span class="n">lower</span><span class="o">=</span><span class="mi">0</span><span class="p">,</span> <span class="n">upper</span><span class="o">=</span><span class="mi">100</span><span class="p">,</span> <span class="n">value</span><span class="o">=</span><span class="mi">1</span><span class="p">)</span>
    <span class="n">tau_0</span> <span class="o">=</span> <span class="n">sig_0</span> <span class="o">**</span> <span class="o">-</span><span class="mi">2</span>
    
    <span class="c"># Original random effect on intercept</span>
    <span class="n">a</span> <span class="o">=</span> <span class="n">pm</span><span class="o">.</span><span class="n">Normal</span><span class="p">(</span><span class="s">&#39;a&#39;</span><span class="p">,</span> <span class="n">mu</span><span class="o">=</span><span class="n">mu_0</span><span class="p">,</span> <span class="n">tau</span><span class="o">=</span><span class="n">tau_0</span><span class="p">,</span> <span class="n">value</span><span class="o">=</span><span class="n">np</span><span class="o">.</span><span class="n">zeros</span><span class="p">(</span><span class="nb">len</span><span class="p">(</span><span class="nb">set</span><span class="p">(</span><span class="n">counties</span><span class="p">))))</span>
    
    <span class="n">b</span> <span class="o">=</span> <span class="n">pm</span><span class="o">.</span><span class="n">Normal</span><span class="p">(</span><span class="s">&#39;b&#39;</span><span class="p">,</span> <span class="n">mu</span><span class="o">=</span><span class="mf">0.</span><span class="p">,</span> <span class="n">tau</span><span class="o">=</span><span class="mf">0.0001</span><span class="p">)</span>
    
    <span class="n">sigma_y</span> <span class="o">=</span> <span class="n">pm</span><span class="o">.</span><span class="n">Uniform</span><span class="p">(</span><span class="s">&#39;sigma_y&#39;</span><span class="p">,</span> <span class="n">lower</span><span class="o">=</span><span class="mi">0</span><span class="p">,</span> <span class="n">upper</span><span class="o">=</span><span class="mi">100</span><span class="p">)</span>
    <span class="n">tau_y</span> <span class="o">=</span> <span class="n">pm</span><span class="o">.</span><span class="n">Lambda</span><span class="p">(</span><span class="s">&#39;tau_y&#39;</span><span class="p">,</span> <span class="k">lambda</span> <span class="n">s</span><span class="o">=</span><span class="n">sigma_y</span><span class="p">:</span> <span class="n">s</span><span class="o">**-</span><span class="mi">2</span><span class="p">)</span>
    
    <span class="c"># Model</span>
    <span class="nd">@pm.deterministic</span>
    <span class="k">def</span> <span class="nf">y_hat</span><span class="p">(</span><span class="n">a</span><span class="o">=</span><span class="n">a</span><span class="p">,</span><span class="n">b</span><span class="o">=</span><span class="n">b</span><span class="p">):</span>
           <span class="k">return</span> <span class="n">a</span><span class="p">[</span><span class="n">index_c</span><span class="p">]</span> <span class="o">+</span> <span class="n">b</span><span class="o">*</span><span class="n">x</span>
    
    <span class="c"># Likelihood</span>
    <span class="n">y_like</span> <span class="o">=</span> <span class="n">pm</span><span class="o">.</span><span class="n">Normal</span><span class="p">(</span><span class="s">&#39;y_like&#39;</span><span class="p">,</span> <span class="n">mu</span><span class="o">=</span><span class="n">y_hat</span><span class="p">,</span> <span class="n">tau</span><span class="o">=</span><span class="n">tau_y</span><span class="p">,</span> <span class="n">value</span><span class="o">=</span><span class="n">y</span><span class="p">,</span> <span class="n">observed</span><span class="o">=</span><span class="bp">True</span><span class="p">)</span>

    <span class="k">return</span> <span class="nb">locals</span><span class="p">()</span>
</pre></div>

</div>
</div>

</div>
<div class="cell border-box-sizing code_cell vbox">
<div class="input hbox">
<div class="prompt input_prompt">
In&nbsp;[37]:
</div>
<div class="input_area box-flex1">
<div class="highlight"><pre><span class="n">M0</span> <span class="o">=</span> <span class="n">pm</span><span class="o">.</span><span class="n">MCMC</span><span class="p">(</span><span class="n">radon_normal</span><span class="p">())</span>
</pre></div>

</div>
</div>

</div>
<div class="cell border-box-sizing code_cell vbox">
<div class="input hbox">
<div class="prompt input_prompt">
In&nbsp;[38]:
</div>
<div class="input_area box-flex1">
<div class="highlight"><pre><span class="n">M0</span><span class="o">.</span><span class="n">sample</span><span class="p">(</span><span class="mi">10000</span><span class="p">,</span> <span class="mi">5000</span><span class="p">)</span>
</pre></div>

</div>
</div>

<div class="vbox output_wrapper">
<div class="output vbox">


<div class="hbox output_area"><div class="prompt"></div>
<div class="box-flex1 output_subarea output_stream output_stdout">
<pre>
 [---               8%                  ] 817 of 10000 complete in 0.5 sec [-------          19%                  ] 1946 of 10000 complete in 1.0 sec [-----------      30%                  ] 3030 of 10000 complete in 1.5 sec [---------------  41%                  ] 4128 of 10000 complete in 2.0 sec [-----------------50%                  ] 5076 of 10000 complete in 2.5 sec [-----------------58%--                ] 5856 of 10000 complete in 3.0 sec [-----------------66%-----             ] 6652 of 10000 complete in 3.5 sec [-----------------74%--------          ] 7461 of 10000 complete in 4.0 sec [-----------------83%-----------       ] 8330 of 10000 complete in 4.5 sec [-----------------91%--------------    ] 9114 of 10000 complete in 5.0 sec [-----------------99%----------------- ] 9986 of 10000 complete in 5.5 sec [-----------------100%-----------------] 10000 of 10000 complete in 5.5 sec
</pre>
</div>
</div>

</div>
</div>

</div>
<div class="text_cell_render border-box-sizing rendered_html">
<p>One metric for model comparison is the <a href="http://en.wikipedia.org/wiki/Deviance_information_criterion">deviance information criterion</a> (DIC), which appears to strongly favor the DP random effect (smaller values are better):</p>
</div>
<div class="cell border-box-sizing code_cell vbox">
<div class="input hbox">
<div class="prompt input_prompt">
In&nbsp;[39]:
</div>
<div class="input_area box-flex1">
<div class="highlight"><pre><span class="n">M0</span><span class="o">.</span><span class="n">dic</span>
</pre></div>

</div>
</div>

<div class="vbox output_wrapper">
<div class="output vbox">


<div class="hbox output_area"><div class="prompt output_prompt">
    Out[39]:</div>
<div class="box-flex1 output_subarea output_pyout">


<pre>
2133.4505016393855
</pre>

</div>
</div>

</div>
</div>

</div>
<div class="cell border-box-sizing code_cell vbox">
<div class="input hbox">
<div class="prompt input_prompt">
In&nbsp;[40]:
</div>
<div class="input_area box-flex1">
<div class="highlight"><pre><span class="n">M</span><span class="o">.</span><span class="n">dic</span>
</pre></div>

</div>
</div>

<div class="vbox output_wrapper">
<div class="output vbox">


<div class="hbox output_area"><div class="prompt output_prompt">
    Out[40]:</div>
<div class="box-flex1 output_subarea output_pyout">


<pre>
1979.3326935245454
</pre>

</div>
</div>

</div>
</div>

</div>
<div class="text_cell_render border-box-sizing rendered_html">
<h2 id="exercise-random-effects-meta-analysis">Exercise: Random effects meta-analysis</h2>
<p>Recall the beta-blockers meta-analysis from Homework 2, where Carlin (1992) considers a Bayesian approach to meta-analysis, and includes examples of 22 trials of beta-blockers to prevent mortality after myocardial infarction.</p>
<p>In one possible random effects model we assume the true effect (on a log-odds scale) <span class="math">\(d_i\)</span> in a trial <span class="math">\(i\)</span> is drawn from some population distribution. Let <span class="math">\(r^C_i\)</span> denote number of events in the control group in trial <span class="math">\(i\)</span>, and <span class="math">\(r^T_i\)</span> denote events under active treatment in trial <span class="math">\(i\)</span>. Our model is:</p>
<p><span class="math">\[\begin{aligned}
r^C_i &amp;\sim \text{Binomial}\left(p^C_i, n^C_i\right) \\
r^T_i &amp;\sim \text{Binomial}\left(p^T_i, n^T_i\right) \\
\text{logit}\left(p^C_i\right) &amp;= \mu \\
\text{logit}\left(p^T_i\right) &amp;= \mu + \delta_i \\
\delta_i &amp;\sim f
\end{aligned}\]</span></p>
<p>Instead of assuming a Gaussian random effect <span class="math">\(f\)</span>, experiment with Dirichlet process priors, and check whether it improves the resulting model.</p>
</div>
<div class="cell border-box-sizing code_cell vbox">
<div class="input hbox">
<div class="prompt input_prompt">
In&nbsp;[41]:
</div>
<div class="input_area box-flex1">
<div class="highlight"><pre><span class="n">r_t_obs</span> <span class="o">=</span> <span class="p">[</span><span class="mi">3</span><span class="p">,</span> <span class="mi">7</span><span class="p">,</span> <span class="mi">5</span><span class="p">,</span> <span class="mi">102</span><span class="p">,</span> <span class="mi">28</span><span class="p">,</span> <span class="mi">4</span><span class="p">,</span> <span class="mi">98</span><span class="p">,</span> <span class="mi">60</span><span class="p">,</span> <span class="mi">25</span><span class="p">,</span> <span class="mi">138</span><span class="p">,</span> <span class="mi">64</span><span class="p">,</span> <span class="mi">45</span><span class="p">,</span> <span class="mi">9</span><span class="p">,</span> <span class="mi">57</span><span class="p">,</span> <span class="mi">25</span><span class="p">,</span> <span class="mi">33</span><span class="p">,</span> <span class="mi">28</span><span class="p">,</span> <span class="mi">8</span><span class="p">,</span> <span class="mi">6</span><span class="p">,</span> <span class="mi">32</span><span class="p">,</span> <span class="mi">27</span><span class="p">,</span> <span class="mi">22</span><span class="p">]</span>
<span class="n">n_t_obs</span> <span class="o">=</span> <span class="p">[</span><span class="mi">38</span><span class="p">,</span> <span class="mi">114</span><span class="p">,</span> <span class="mi">69</span><span class="p">,</span> <span class="mi">1533</span><span class="p">,</span> <span class="mi">355</span><span class="p">,</span> <span class="mi">59</span><span class="p">,</span> <span class="mi">945</span><span class="p">,</span> <span class="mi">632</span><span class="p">,</span> <span class="mi">278</span><span class="p">,</span><span class="mi">1916</span><span class="p">,</span> <span class="mi">873</span><span class="p">,</span> <span class="mi">263</span><span class="p">,</span> <span class="mi">291</span><span class="p">,</span> <span class="mi">858</span><span class="p">,</span> <span class="mi">154</span><span class="p">,</span> <span class="mi">207</span><span class="p">,</span> <span class="mi">251</span><span class="p">,</span> <span class="mi">151</span><span class="p">,</span> <span class="mi">174</span><span class="p">,</span> <span class="mi">209</span><span class="p">,</span> <span class="mi">391</span><span class="p">,</span> <span class="mi">680</span><span class="p">]</span>
<span class="n">r_c_obs</span> <span class="o">=</span> <span class="p">[</span><span class="mi">3</span><span class="p">,</span> <span class="mi">14</span><span class="p">,</span> <span class="mi">11</span><span class="p">,</span> <span class="mi">127</span><span class="p">,</span> <span class="mi">27</span><span class="p">,</span> <span class="mi">6</span><span class="p">,</span> <span class="mi">152</span><span class="p">,</span> <span class="mi">48</span><span class="p">,</span> <span class="mi">37</span><span class="p">,</span> <span class="mi">188</span><span class="p">,</span> <span class="mi">52</span><span class="p">,</span> <span class="mi">47</span><span class="p">,</span> <span class="mi">16</span><span class="p">,</span> <span class="mi">45</span><span class="p">,</span> <span class="mi">31</span><span class="p">,</span> <span class="mi">38</span><span class="p">,</span> <span class="mi">12</span><span class="p">,</span> <span class="mi">6</span><span class="p">,</span> <span class="mi">3</span><span class="p">,</span> <span class="mi">40</span><span class="p">,</span> <span class="mi">43</span><span class="p">,</span> <span class="mi">39</span><span class="p">]</span>
<span class="n">n_c_obs</span> <span class="o">=</span> <span class="p">[</span><span class="mi">39</span><span class="p">,</span> <span class="mi">116</span><span class="p">,</span> <span class="mi">93</span><span class="p">,</span> <span class="mi">1520</span><span class="p">,</span> <span class="mi">365</span><span class="p">,</span> <span class="mi">52</span><span class="p">,</span> <span class="mi">939</span><span class="p">,</span> <span class="mi">471</span><span class="p">,</span> <span class="mi">282</span><span class="p">,</span> <span class="mi">1921</span><span class="p">,</span> <span class="mi">583</span><span class="p">,</span> <span class="mi">266</span><span class="p">,</span> <span class="mi">293</span><span class="p">,</span> <span class="mi">883</span><span class="p">,</span> <span class="mi">147</span><span class="p">,</span> <span class="mi">213</span><span class="p">,</span> <span class="mi">122</span><span class="p">,</span> <span class="mi">154</span><span class="p">,</span> <span class="mi">134</span><span class="p">,</span> <span class="mi">218</span><span class="p">,</span> <span class="mi">364</span><span class="p">,</span> <span class="mi">674</span><span class="p">]</span>
<span class="n">N</span> <span class="o">=</span> <span class="nb">len</span><span class="p">(</span><span class="n">n_c_obs</span><span class="p">)</span>
</pre></div>

</div>
</div>

</div>
<div class="cell border-box-sizing code_cell vbox">
<div class="input hbox">
<div class="prompt input_prompt">
In&nbsp;[42]:
</div>
<div class="input_area box-flex1">
<div class="highlight"><pre><span class="c"># Write your answer here</span>
</pre></div>

</div>
</div>

</div>
<div class="text_cell_render border-box-sizing rendered_html">
<h2 id="references">References</h2>
<p>Teh, Y. W., &amp; Jordan, M. I. (2010). <a href="http://www.cs.berkeley.edu/~jordan/papers/teh-jordan-bnp.pdf">Hierarchical Bayesian nonparametric models with applications</a>. Bayesian nonparametrics, 158–207.</p>
<hr />
</div>
<div class="cell border-box-sizing code_cell vbox">
<div class="input hbox">
<div class="prompt input_prompt">
In&nbsp;[43]:
</div>
<div class="input_area box-flex1">
<div class="highlight"><pre><span class="kn">from</span> <span class="nn">IPython.core.display</span> <span class="kn">import</span> <span class="n">HTML</span>
<span class="k">def</span> <span class="nf">css_styling</span><span class="p">():</span>
    <span class="n">styles</span> <span class="o">=</span> <span class="nb">open</span><span class="p">(</span><span class="s">&quot;styles/custom.css&quot;</span><span class="p">,</span> <span class="s">&quot;r&quot;</span><span class="p">)</span><span class="o">.</span><span class="n">read</span><span class="p">()</span>
    <span class="k">return</span> <span class="n">HTML</span><span class="p">(</span><span class="n">styles</span><span class="p">)</span>
<span class="n">css_styling</span><span class="p">()</span>
</pre></div>

</div>
</div>

<div class="vbox output_wrapper">
<div class="output vbox">


<div class="hbox output_area"><div class="prompt output_prompt">
    Out[43]:</div>
<div class="box-flex1 output_subarea output_pyout">

<div class="output_html rendered_html">
<style>
    @font-face {
        font-family: "Computer Modern";
        src: url('http://mirrors.ctan.org/fonts/cm-unicode/fonts/otf/cmunss.otf');
    }
    div.cell{
        width: 90%;
/*        margin-left:auto;*/
/*        margin-right:auto;*/
    }
    ul {
        line-height: 145%;
        font-size: 90%;
    }
    li {
        margin-bottom: 1em;
    }
    h1 {
        font-family: Helvetica, serif;
    }
    h4{
        margin-top: 12px;
        margin-bottom: 3px;
       }
    div.text_cell_render{
        font-family: Computer Modern, "Helvetica Neue", Arial, Helvetica, Geneva, sans-serif;
        line-height: 145%;
        font-size: 130%;
        width: 90%;
        margin-left:auto;
        margin-right:auto;
    }
    .CodeMirror{
            font-family: "Source Code Pro", source-code-pro,Consolas, monospace;
    }
/*    .prompt{
        display: None;
    }*/
    .text_cell_render h5 {
        font-weight: 300;
        font-size: 16pt;
        color: #4057A1;
        font-style: italic;
        margin-bottom: 0.5em;
        margin-top: 0.5em;
        display: block;
    }

    .warning{
        color: rgb( 240, 20, 20 )
        }
</style>
<script>
    MathJax.Hub.Config({
                        TeX: {
                           extensions: ["AMSmath.js"]
                           },
                tex2jax: {
                    inlineMath: [ ['$','$'], ["\\(","\\)"] ],
                    displayMath: [ ['$$','$$'], ["\\[","\\]"] ]
                },
                displayAlign: 'center', // Change this to 'center' to center equations.
                "HTML-CSS": {
                    styles: {'.MathJax_Display': {"margin": 4}}
                }
        });
</script>
</div>

</div>
</div>

</div>
</div>

</div>


     <!-- Footer
     ================================================== -->
      <footer class="footer">
      <p class="pull-right"><a href="#">Back to top</a></p>
      <p>More info on <a href='http://ipython.org'> IPython website</a>.
      <a href="https://github.com/ipython/nbviewer">The code for this site</a> is licensed under <a href="https://github.com/ipython/nbviewer/blob/master/LICENSE.txt" target="_blank">BSD</a>.
      Built thanks to <a href="http://twitter.github.com/bootstrap/"> Twitter Bootstrap</a>
      </p>
      <p>This web site does not host notebooks, it only renders notebooks available on other websites.
      Thanks to all our <a href="https://github.com/ipython/nbviewer/contributors">contributors</a> and to <a href="http://www.rackspace.com">Rackspace</a> for hosting.</p>
      
      <p class="text-muted">
          nbviewer version:
          <a href="https://github.com/ipython/nbviewer/commit/a3aa8abe0b5aa305afb95c5ff5218464d3970aa6">a3aa8ab</a>
          (Fri, 24 Jan 2014 08:55:28 -0800)
      </p>
      
      </footer>
    </div><!-- /container -->



    <!-- Le javascript
    ================================================== -->
    <!-- Placed at the end of the document so the pages load faster -->

    <!--<script type="text/javascript" src="http://platform.twitter.com/widgets.js"></script>-->
    <script src="/static/js/jquery.min.js"></script>
    <!--<script src="/static/js/google-code-prettify/prettify.js"></script>-->
    <!--<script src="/static/js/bootstrap-transition.js"></script>-->
    <!--<script src="/static/js/bootstrap-alert.js"></script>-->
    <!--<script src="/static/js/bootstrap-modal.js"></script>-->
    <!--<script src="/static/js/bootstrap-dropdown.js"></script>-->
    <!--<script src="/static/js/bootstrap-scrollspy.js"></script>-->
    <!--<script src="/static/js/bootstrap-tab.js"></script>-->
    <!--<script src="/static/js/bootstrap-tooltip.js"></script>-->
    <!--<script src="/static/js/bootstrap-popover.js"></script>-->
    <!--<script src="/static/js/bootstrap-button.js"></script>-->
    <script src="/static/js/bootstrap-collapse.js"></script>
    <!--<script src="/static/js/bootstrap-carousel.js"></script>-->
    <!--<script src="/static/js/bootstrap-typeahead.js"></script>-->
    <!--<script src="/static/js/application.js"></script>-->
    <script src="/static/components/headroom.js/dist/headroom.min.js"></script>
    <script src="/static/components/headroom.js/dist/jQuery.headroom.min.js"></script>


    
    
    
    <script>
    $(document).ready(
                function(){
                    $("#menubar").headroom({
                        "tolerance": 5,
                        "offset": 205,
                        "classes": {
                            "initial": "animated",
                            "pinned": "slideInDown",
                            "unpinned": "slideOutUp"
                        }
                    })
                }
            );
    </script>



    <!-- Analytics
    ================================================== -->
    <script type="text/javascript">
      var _gaq = _gaq || [];
      _gaq.push(['_setAccount', 'UA-38683231-2']);
      _gaq.push(['_trackPageview']);

      (function() {
        var ga = document.createElement('script'); ga.type = 'text/javascript'; ga.async = true;
        ga.src = ('https:' == document.location.protocol ? 'https://ssl' : 'http://www') + '.google-analytics.com/ga.js';
        var s = document.getElementsByTagName('script')[0]; s.parentNode.insertBefore(ga, s);
      })();

    </script>
    <!--NEW RELIC Stop Perf Measurement-->
    
    <!--NEW RELIC End-->
  </body>
</html>