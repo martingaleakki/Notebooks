{
 "metadata": {
  "name": ""
 },
 "nbformat": 3,
 "nbformat_minor": 0,
 "worksheets": [
  {
   "cells": [
    {
     "cell_type": "heading",
     "level": 1,
     "metadata": {},
     "source": [
      "Concepts in Quantitative Finance"
     ]
    },
    {
     "cell_type": "markdown",
     "metadata": {},
     "source": [
      "The concepts described below are very important for a thorough understanding of quantitative finance. \n",
      "These will help avoid the most common misconceptions and mistakes."
     ]
    },
    {
     "cell_type": "markdown",
     "metadata": {},
     "source": [
      "1. How to estimate the covariance matrix of asset returns ?\n",
      "2. How to exponentiate the covariance matrix of asset returns ?\n",
      "3. How to estimate the expected returns of a group of assets ?\n"
     ]
    },
    {
     "cell_type": "code",
     "collapsed": false,
     "input": [
      "\n"
     ],
     "language": "python",
     "metadata": {},
     "outputs": []
    }
   ],
   "metadata": {}
  }
 ]
}