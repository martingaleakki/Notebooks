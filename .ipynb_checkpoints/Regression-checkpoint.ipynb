{
 "metadata": {
  "name": ""
 },
 "nbformat": 3,
 "nbformat_minor": 0,
 "worksheets": [
  {
   "cells": [
    {
     "cell_type": "markdown",
     "metadata": {},
     "source": [
      "Regression is one of the most widely used techniques in Finance."
     ]
    },
    {
     "cell_type": "markdown",
     "metadata": {},
     "source": [
      "Here is an example of **Categorical regression**\n"
     ]
    },
    {
     "cell_type": "markdown",
     "metadata": {},
     "source": [
      "The data below shows the acceptance rate for students in UC Berkeley. I will use random forest classifier to predict the acceptance based on\n",
      "gender and department of the student."
     ]
    },
    {
     "cell_type": "code",
     "collapsed": false,
     "input": [
      "import scipy as sc\n",
      "import numpy as np\n",
      "import pandas as pd\n",
      "\n",
      "url='http://vincentarelbundock.github.io/Rdatasets/csv/datasets/UCBAdmissions.csv'\n",
      "data=pd.read_csv(url)\n",
      "data = data.ix[:,1:]\n"
     ],
     "language": "python",
     "metadata": {},
     "outputs": [],
     "prompt_number": 60
    },
    {
     "cell_type": "code",
     "collapsed": false,
     "input": [
      "data.head(5)"
     ],
     "language": "python",
     "metadata": {},
     "outputs": [
      {
       "html": [
        "<div style=\"max-height:1000px;max-width:1500px;overflow:auto;\">\n",
        "<table border=\"1\" class=\"dataframe\">\n",
        "  <thead>\n",
        "    <tr style=\"text-align: right;\">\n",
        "      <th></th>\n",
        "      <th>Unnamed: 0</th>\n",
        "      <th>Admit</th>\n",
        "      <th>Gender</th>\n",
        "      <th>Dept</th>\n",
        "      <th>Freq</th>\n",
        "    </tr>\n",
        "  </thead>\n",
        "  <tbody>\n",
        "    <tr>\n",
        "      <th>0</th>\n",
        "      <td> 1</td>\n",
        "      <td> Admitted</td>\n",
        "      <td>   Male</td>\n",
        "      <td> A</td>\n",
        "      <td> 512</td>\n",
        "    </tr>\n",
        "    <tr>\n",
        "      <th>1</th>\n",
        "      <td> 2</td>\n",
        "      <td> Rejected</td>\n",
        "      <td>   Male</td>\n",
        "      <td> A</td>\n",
        "      <td> 313</td>\n",
        "    </tr>\n",
        "    <tr>\n",
        "      <th>2</th>\n",
        "      <td> 3</td>\n",
        "      <td> Admitted</td>\n",
        "      <td> Female</td>\n",
        "      <td> A</td>\n",
        "      <td>  89</td>\n",
        "    </tr>\n",
        "    <tr>\n",
        "      <th>3</th>\n",
        "      <td> 4</td>\n",
        "      <td> Rejected</td>\n",
        "      <td> Female</td>\n",
        "      <td> A</td>\n",
        "      <td>  19</td>\n",
        "    </tr>\n",
        "    <tr>\n",
        "      <th>4</th>\n",
        "      <td> 5</td>\n",
        "      <td> Admitted</td>\n",
        "      <td>   Male</td>\n",
        "      <td> B</td>\n",
        "      <td> 353</td>\n",
        "    </tr>\n",
        "  </tbody>\n",
        "</table>\n",
        "</div>"
       ],
       "metadata": {},
       "output_type": "pyout",
       "prompt_number": 3,
       "text": [
        "   Unnamed: 0     Admit  Gender Dept  Freq\n",
        "0           1  Admitted    Male    A   512\n",
        "1           2  Rejected    Male    A   313\n",
        "2           3  Admitted  Female    A    89\n",
        "3           4  Rejected  Female    A    19\n",
        "4           5  Admitted    Male    B   353"
       ]
      }
     ],
     "prompt_number": 3
    },
    {
     "cell_type": "markdown",
     "metadata": {},
     "source": [
      "The data needs to be converted to categorical format for the classifier. We can use a utility function provided by pandas called Categorical.from_array.\n",
      "The result of this should be stored in a seperate variable and then the label information should be used as shown below otherwise numpy coerces the pandas object\n",
      "losing the categorical information."
     ]
    },
    {
     "cell_type": "code",
     "collapsed": false,
     "input": [
      "\n",
      "from sklearn.ensemble import RandomForestClassifier\n",
      "clf = RandomForestClassifier(n_jobs=3, verbose=0)\n",
      "cols = data.columns[2:]\n",
      "\n",
      "samp=data\n",
      "y=pd.Categorical.from_array(samp['Admit'])\n",
      "gender=pd.Categorical.from_array(samp['Gender'])\n",
      "dept=pd.Categorical.from_array(samp['Dept'])\n",
      "\n",
      "samp['Gender']=gender.labels\n",
      "samp['Dept']=dept.labels\n",
      "samp\n",
      "clf.fit(samp[cols], y)"
     ],
     "language": "python",
     "metadata": {},
     "outputs": [
      {
       "metadata": {},
       "output_type": "pyout",
       "prompt_number": 52,
       "text": [
        "RandomForestClassifier(bootstrap=True, compute_importances=None,\n",
        "            criterion='gini', max_depth=None, max_features='auto',\n",
        "            min_density=None, min_samples_leaf=1, min_samples_split=2,\n",
        "            n_estimators=10, n_jobs=3, oob_score=False, random_state=None,\n",
        "            verbose=0)"
       ]
      }
     ],
     "prompt_number": 52
    },
    {
     "cell_type": "markdown",
     "metadata": {},
     "source": [
      "Now lets predict using the training data. Later I will run the prediction on test data."
     ]
    },
    {
     "cell_type": "code",
     "collapsed": false,
     "input": [
      "yhat = clf.predict(samp[cols])\n",
      "\n",
      "n=sum(y==yhat)\n",
      "n*100.0/len(y)"
     ],
     "language": "python",
     "metadata": {},
     "outputs": [
      {
       "metadata": {},
       "output_type": "pyout",
       "prompt_number": 53,
       "text": [
        "100.0"
       ]
      }
     ],
     "prompt_number": 53
    },
    {
     "cell_type": "markdown",
     "metadata": {},
     "source": [
      "100% accuracy on the training data. Well that is expected. Now I should split my data in training and test data and retry. Here is a handy way to split the data."
     ]
    },
    {
     "cell_type": "code",
     "collapsed": false,
     "input": [
      "from sklearn.cross_validation import train_test_split\n",
      "\n",
      "test, train = train_test_split(samp,test_size=.5,random_state=42)"
     ],
     "language": "python",
     "metadata": {},
     "outputs": [],
     "prompt_number": 54
    },
    {
     "cell_type": "markdown",
     "metadata": {},
     "source": [
      "Let's train the classifier using the training data."
     ]
    },
    {
     "cell_type": "code",
     "collapsed": false,
     "input": [
      "train=pd.DataFrame(train,columns=data.columns)\n",
      "clf.fit(train[cols], train.Admit)"
     ],
     "language": "python",
     "metadata": {},
     "outputs": [
      {
       "metadata": {},
       "output_type": "pyout",
       "prompt_number": 55,
       "text": [
        "RandomForestClassifier(bootstrap=True, compute_importances=None,\n",
        "            criterion='gini', max_depth=None, max_features='auto',\n",
        "            min_density=None, min_samples_leaf=1, min_samples_split=2,\n",
        "            n_estimators=10, n_jobs=3, oob_score=False, random_state=None,\n",
        "            verbose=0)"
       ]
      }
     ],
     "prompt_number": 55
    },
    {
     "cell_type": "code",
     "collapsed": false,
     "input": [
      "Now it's time to test the classifier using the test data."
     ],
     "language": "python",
     "metadata": {},
     "outputs": []
    },
    {
     "cell_type": "code",
     "collapsed": false,
     "input": [
      "test=pd.DataFrame(test,columns=data.columns)\n",
      "yhat=clf.predict(test[cols])\n",
      "\n",
      "\n",
      "n=sum(yhat==test['Admit'])\n",
      "n*100.0/len(test)"
     ],
     "language": "python",
     "metadata": {},
     "outputs": [
      {
       "metadata": {},
       "output_type": "pyout",
       "prompt_number": 56,
       "text": [
        "58.333333333333336"
       ]
      }
     ],
     "prompt_number": 56
    },
    {
     "cell_type": "markdown",
     "metadata": {},
     "source": [
      "58% accuracy! Given such a small sample size, it's not bad. Now let's run linear regression."
     ]
    },
    {
     "cell_type": "code",
     "collapsed": false,
     "input": [],
     "language": "python",
     "metadata": {},
     "outputs": []
    }
   ],
   "metadata": {}
  }
 ]
}