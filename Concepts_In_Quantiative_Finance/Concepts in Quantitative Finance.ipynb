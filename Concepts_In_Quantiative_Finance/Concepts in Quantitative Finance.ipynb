{
 "metadata": {
  "name": ""
 },
 "nbformat": 3,
 "nbformat_minor": 0,
 "worksheets": [
  {
   "cells": [
    {
     "cell_type": "heading",
     "level": 1,
     "metadata": {},
     "source": [
      "Concepts in Quantitative Finance"
     ]
    },
    {
     "cell_type": "markdown",
     "metadata": {},
     "source": [
      "The concepts described below are very important for a thorough understanding of quantitative finance. \n",
      "These will help avoid the most common misconceptions and mistakes.\n",
      "\n",
      "The very highlevel objective is to take capital, allocate it to assets and generate a net profit after taxes and transaction costs. \n",
      "Though this objective seems easy to understand but the implementation details is where the devil lies. Below is a list of questions\n",
      "that should be asked in order to reach the objective. In trying to answer these questions we will learn the most important concepts in quantiative finance.\n",
      "Since asset prices are random, most of these concepts are statistical in nature. \n",
      "\n",
      "###The end objective is to be able to be able to effectively trade on our own!"
     ]
    },
    {
     "cell_type": "markdown",
     "metadata": {},
     "source": [
      "The questions spand a multitude of topics:\n",
      "    \n",
      "    1. Linear algebra\n",
      "    2. Probability theory\n",
      "    3. Differential equations\n",
      "    4. Statistics\n",
      "    5. Machine learning\n",
      "    6. Optimization\n",
      "    7. Programming\n",
      "    \n",
      "    and lastly\n",
      "    8. Common sense\n",
      "    \n",
      "So what are the questions we need to answer ?"
     ]
    },
    {
     "cell_type": "code",
     "collapsed": false,
     "input": [
      "1. How to estimate the covariance matrix of asset returns ?\n",
      "2. How to exponentiate the covariance matrix of asset returns ?\n",
      "3. How to estimate the expected returns of a group of assets ?\n",
      "4. How to forecast the expected returns of a group of assets ?\n",
      "5. How to estimate the distribution for an asset given its returns ? How to estimate the parameters ? How to let these parameters evolve over time ?\n",
      "6. How to estimate the weights of assets in a portfolio to achive an objective ?\n",
      "7. How to change the weights of assets as you obtain more information about the asset returns ?\n",
      "8. How do you evolve the covariance matrix of asset returns over time ?\n",
      "9. What metrics do you look at to evaluate a portfolio/trading strategy's performance ?\n",
      "10. What are the tax implications of the capital gains of our strategy ?\n",
      "11. What does the net profit of our strategy look like after including transaction costs ?\n",
      "12. Where do I get good quality data to implement a trading strategy ?\n"
     ],
     "language": "python",
     "metadata": {},
     "outputs": []
    },
    {
     "cell_type": "markdown",
     "metadata": {},
     "source": [
      "Some interesting interview questions that highlight the importance of these topics/questions!\n",
      "\n",
      "\n"
     ]
    },
    {
     "cell_type": "markdown",
     "metadata": {},
     "source": [
      "####Describe ANOVA/Regression ? Common Pittfalls in regression techniques ?\n",
      "\n"
     ]
    },
    {
     "cell_type": "markdown",
     "metadata": {},
     "source": [
      "[Ordinary Least Squares Regression](http://cran.r-project.org/doc/contrib/Faraway-PRA.pdf) - This is a good document that talks about common approaches, issues and solutions when doing regressions. OLS regression is widely popular in finance\n",
      "especially bacause it is very easy to use, but that's also the problem because there are lots of assumptions and people overlook these assumptions making wrong inferences!\n",
      "\n",
      "What is important is to be able to answer these questions ?\n",
      "\n",
      "* How do you handle correlated errors ? \n",
      "    - Add lagged terms in your model. \n",
      "        - [Examples](TBD) - **TBD**\n",
      "        - [Code](TBD) - **TBD**\n",
      "* How do you handle non-constant variances in errors ?\n",
      "    - Consider Transformations to the Y and occasionally to X\n",
      "* How do you handle fat-tailed errors ?\n",
      "    - If the errors vary with Y, then consider Weighted Least Squares\n",
      "* How do you handle collinear predictors ?\n",
      "    - [Gotcha's! in OLS](http://camdp.com/blogs/machine-learning-counter-examples-pt1) - This is a good post that shows some issues with OLS and in appropriate inferences.\n",
      "\n",
      "* How do you evaluate the performance of a model ?\n",
      "* How do you pick between multiple competing models ?\n",
      "\n",
      " \n",
      "[Bayesian Linear Regression](http://www.austinrochford.com/posts/2013-09-02-prior-distributions-for-bayesian-regression-using-pymc.html)\n",
      "This method provides a general framework to model your data and make inferences based on its observed/expected properties without making unneccessary assumptions.\n"
     ]
    },
    {
     "cell_type": "markdown",
     "metadata": {},
     "source": [
      "**How do you estimate a covariance matrix - $\\Sigma$ of asset returns ?**\n",
      "\n",
      "$\\Sigma$ is an important quantity in finance, since it is a measure of risk! Trading is all about being able to manage your risk effectively.\n",
      "Hence accurate/stable estimation of $\\Sigma$ is very important. What are some of the big issues in estimating $\\Sigma$ ?\n",
      "\n",
      "Well, for one the $\\Sigma$ is by definition an NxN positive definite matrix. The estimation complexity is O($N^2$). Variances and correlations\n",
      "change over time, so we need to be able to evolve $\\Sigma$ over time but the evolution should be *stable*.\n",
      "\n",
      "One of the popular approaches is to use a factor model - **INSERT LINK TO SYSTEMATIC INVESTOR**"
     ]
    },
    {
     "cell_type": "code",
     "collapsed": false,
     "input": [],
     "language": "python",
     "metadata": {},
     "outputs": []
    }
   ],
   "metadata": {}
  }
 ]
}