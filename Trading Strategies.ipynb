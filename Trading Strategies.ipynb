{
 "metadata": {
  "name": ""
 },
 "nbformat": 3,
 "nbformat_minor": 0,
 "worksheets": [
  {
   "cells": [
    {
     "cell_type": "heading",
     "level": 1,
     "metadata": {},
     "source": [
      "Systematic Trading Strategies"
     ]
    },
    {
     "cell_type": "markdown",
     "metadata": {},
     "source": [
      "\n",
      "This document describes and implements some popular trading strategies in python using publically available data.\n",
      "\n",
      "Trading Strategies can broadly be broken down into the following 5 categories:\n",
      "    \n",
      "    1. Mean reversion \n",
      "    2. Momentum\n",
      "    3. Value\n",
      "    4. Seasonality \n",
      "    5. Sentiment\n",
      "    \n",
      "This is a good slide set by Jess Sauth at Quantopia highlighting the same idea.\n",
      "\n",
      "    \n"
     ]
    },
    {
     "cell_type": "code",
     "collapsed": false,
     "input": [
      "from IPython.display import HTML\n",
      "HTML('<iframe src=\"http://www.slideshare.net/slideshow/embed_code/30965323\" width=\"427\" height=\"356\" frameborder=\"0\" marginwidth=\"0\" marginheight=\"0\" scrolling=\"no\" style=\"border:1px solid #CCC; border-width:1px 1px 0; margin-bottom:5px; max-width: 100%;\" allowfullscreen> </iframe> <div style=\"margin-bottom:5px\"> <strong> <a href=\"https://www.slideshare.net/JessStauth/d-30965323\" title=\"DIY Quant Strategies on Quantopian\" target=\"_blank\">DIY Quant Strategies on Quantopian</a> </strong> from <strong><a href=\"http://www.slideshare.net/JessStauth\" target=\"_blank\">Jess Stauth</a></strong> </div>')\n",
      " "
     ],
     "language": "python",
     "metadata": {},
     "outputs": [
      {
       "html": [
        "<iframe src=\"http://www.slideshare.net/slideshow/embed_code/30965323\" width=\"427\" height=\"356\" frameborder=\"0\" marginwidth=\"0\" marginheight=\"0\" scrolling=\"no\" style=\"border:1px solid #CCC; border-width:1px 1px 0; margin-bottom:5px; max-width: 100%;\" allowfullscreen> </iframe> <div style=\"margin-bottom:5px\"> <strong> <a href=\"https://www.slideshare.net/JessStauth/d-30965323\" title=\"DIY Quant Strategies on Quantopian\" target=\"_blank\">DIY Quant Strategies on Quantopian</a> </strong> from <strong><a href=\"http://www.slideshare.net/JessStauth\" target=\"_blank\">Jess Stauth</a></strong> </div>"
       ],
       "metadata": {},
       "output_type": "pyout",
       "prompt_number": 2,
       "text": [
        "<IPython.core.display.HTML at 0x103a9df90>"
       ]
      }
     ],
     "prompt_number": 2
    },
    {
     "cell_type": "code",
     "collapsed": false,
     "input": [],
     "language": "python",
     "metadata": {},
     "outputs": [
      {
       "output_type": "stream",
       "stream": "stdout",
       "text": [
        "[  2.53108488e+00  -1.55389915e+00  -1.23021643e+00  -1.14594052e+00\n",
        "  -1.84830149e+00   2.26972413e-01  -5.57943370e-01  -1.89415655e-01\n",
        "   3.02592069e-01  -7.94468545e-04]\n"
       ]
      }
     ],
     "prompt_number": 3
    }
   ],
   "metadata": {}
  }
 ]
}